{
 "cells": [
  {
   "cell_type": "code",
   "execution_count": 1,
   "metadata": {},
   "outputs": [],
   "source": [
    "import pandas as pd\n",
    "import numpy as np\n",
    "import os\n",
    "import pickle\n",
    "import matplotlib.pyplot as plt\n",
    "import seaborn as sns\n",
    "import gc"
   ]
  },
  {
   "cell_type": "code",
   "execution_count": 29,
   "metadata": {},
   "outputs": [],
   "source": [
    "tg_api_token = '5102696637:AAHcm9cOmIF7-GyG7nHHJYA_yZCGSWSTu60'\n",
    "tg_chat_id = '1126129331'\n",
    "\n",
    "import requests\n",
    "\n",
    "def send_tg_message(text='Cell execution completed.'):\n",
    "    requests.post(\n",
    "        'https://api.telegram.org/' +\n",
    "        'bot{}/sendMessage'.format(tg_api_token), \n",
    "        params=dict(chat_id=tg_chat_id, text=text)\n",
    "    )"
   ]
  },
  {
   "cell_type": "markdown",
   "metadata": {},
   "source": [
    "# Get Data"
   ]
  },
  {
   "cell_type": "code",
   "execution_count": 70,
   "metadata": {},
   "outputs": [],
   "source": [
    "root_path = \"WESAD\"\n",
    "zip_label = \"_E4_Data.zip\"\n",
    "E4_label = \"_E4_Data\""
   ]
  },
  {
   "cell_type": "code",
   "execution_count": 71,
   "metadata": {},
   "outputs": [],
   "source": [
    "pacient_state = {\n",
    "    0: \"Not Defined/Transient\",\n",
    "    1: \"Baseline\",\n",
    "    2: \"Stress\",\n",
    "    3: \"Amusement\",\n",
    "    4: \"Meditation\",\n",
    "    5: \"Error/Not Labeled\"\n",
    "}"
   ]
  },
  {
   "cell_type": "code",
   "execution_count": 10,
   "metadata": {},
   "outputs": [],
   "source": [
    "def get_label(i):\n",
    "    return pacient_state[i]\n",
    "\n",
    "vec_get_label = np.vectorize(get_label)"
   ]
  },
  {
   "cell_type": "code",
   "execution_count": 9,
   "metadata": {},
   "outputs": [],
   "source": [
    "chest_signal_available = ['ECG', 'EMG', 'EDA', 'Temp', 'Resp']"
   ]
  },
  {
   "cell_type": "code",
   "execution_count": 11,
   "metadata": {},
   "outputs": [],
   "source": [
    "num_features = len(chest_signal_available)"
   ]
  },
  {
   "cell_type": "code",
   "execution_count": 12,
   "metadata": {},
   "outputs": [
    {
     "data": {
      "text/plain": [
       "['S5',\n",
       " 'S2',\n",
       " 'S3',\n",
       " 'S4',\n",
       " 'S17',\n",
       " 'S10',\n",
       " 'S11',\n",
       " 'S16',\n",
       " 'S8',\n",
       " 'S6',\n",
       " 'S7',\n",
       " 'S9',\n",
       " 'S13',\n",
       " 'S14',\n",
       " 'S15']"
      ]
     },
     "execution_count": 12,
     "metadata": {},
     "output_type": "execute_result"
    }
   ],
   "source": [
    "# subjects_available = os.listdir(root_path)\n",
    "\n",
    "# subjects_available\n",
    "\n",
    "subjects_available = ['S5', 'S2', 'S3', 'S4', 'S17', 'S10', 'S11', 'S16', 'S8', 'S6', 'S7', 'S9', 'S13', 'S14', 'S15']\n",
    "\n",
    "subjects_available"
   ]
  },
  {
   "cell_type": "code",
   "execution_count": 13,
   "metadata": {},
   "outputs": [
    {
     "name": "stdout",
     "output_type": "stream",
     "text": [
      "['S5', 'S2', 'S3', 'S4', 'S17', 'S10', 'S11', 'S16', 'S8', 'S6', 'S7', 'S9', 'S13', 'S14', 'S15']\n",
      "['S5', 'S2', 'S3', 'S4', 'S17', 'S10', 'S11', 'S16', 'S8', 'S6', 'S7', 'S9', 'S13', 'S14', 'S15']\n"
     ]
    }
   ],
   "source": [
    "try:\n",
    "    subjects_available.remove(\".DS_Store\")\n",
    "except:\n",
    "    print(subjects_available)\n",
    "\n",
    "print(subjects_available)"
   ]
  },
  {
   "cell_type": "code",
   "execution_count": 77,
   "metadata": {},
   "outputs": [],
   "source": [
    "def get_input_chest_data(subjects_list):\n",
    "    \n",
    "    chest_df_list = []\n",
    "    \n",
    "    for subject in subjects_list:\n",
    "        \n",
    "        pkl_path = os.path.join(root_path, subject, subject + \".pkl\")\n",
    "        f=open(pkl_path,'rb')\n",
    "        data=pickle.load(f,encoding='latin1')\n",
    "\n",
    "        chest_data = {}\n",
    "\n",
    "        for body_signal in chest_signal_available:\n",
    "            if body_signal == \"ACC_X\":\n",
    "                chest_data[body_signal] = data[\"signal\"][\"chest\"][\"ACC\"][:,0]\n",
    "            elif body_signal == \"ACC_Y\":\n",
    "                chest_data[body_signal] = data[\"signal\"][\"chest\"][\"ACC\"][:,1]\n",
    "            elif body_signal == \"ACC_Z\":\n",
    "                chest_data[body_signal] = data[\"signal\"][\"chest\"][\"ACC\"][:,2]\n",
    "            else:\n",
    "                chest_data[body_signal]= data[\"signal\"][\"chest\"][body_signal].reshape((len(data[\"label\"])),)\n",
    "\n",
    "        seven_indexes = np.where(data[\"label\"] == 7)\n",
    "        data[\"label\"][seven_indexes] = 5\n",
    "        six_indexes = np.where(data[\"label\"] == 6)\n",
    "        data[\"label\"][six_indexes] = 5\n",
    "\n",
    "        chest_data[\"label_id\"] = data[\"label\"]\n",
    "        chest_data[\"label\"] = vec_get_label(data[\"label\"])\n",
    "        chest_data[\"subject\"] = data[\"subject\"]\n",
    "\n",
    "        chest_df_list.append(pd.DataFrame(chest_data))\n",
    "        \n",
    "    return chest_df_list"
   ]
  },
  {
   "cell_type": "code",
   "execution_count": 6,
   "metadata": {},
   "outputs": [],
   "source": [
    "f=open(\"all_data\",'rb')\n",
    "data=pickle.load(f,encoding='latin1')"
   ]
  },
  {
   "cell_type": "code",
   "execution_count": 7,
   "metadata": {},
   "outputs": [],
   "source": [
    "# input_chest_data = get_input_chest_data(subjects_available)\n",
    "input_chest_data = data[\"input_data\"]"
   ]
  },
  {
   "cell_type": "code",
   "execution_count": 80,
   "metadata": {},
   "outputs": [
    {
     "data": {
      "text/plain": [
       "15"
      ]
     },
     "execution_count": 80,
     "metadata": {},
     "output_type": "execute_result"
    }
   ],
   "source": [
    "len(input_chest_data)"
   ]
  },
  {
   "cell_type": "code",
   "execution_count": 13,
   "metadata": {},
   "outputs": [],
   "source": [
    "# input_chest_data"
   ]
  },
  {
   "cell_type": "markdown",
   "metadata": {},
   "source": [
    "# Investigating Data"
   ]
  },
  {
   "cell_type": "code",
   "execution_count": 81,
   "metadata": {},
   "outputs": [
    {
     "data": {
      "text/html": [
       "<div>\n",
       "<style scoped>\n",
       "    .dataframe tbody tr th:only-of-type {\n",
       "        vertical-align: middle;\n",
       "    }\n",
       "\n",
       "    .dataframe tbody tr th {\n",
       "        vertical-align: top;\n",
       "    }\n",
       "\n",
       "    .dataframe thead th {\n",
       "        text-align: right;\n",
       "    }\n",
       "</style>\n",
       "<table border=\"1\" class=\"dataframe\">\n",
       "  <thead>\n",
       "    <tr style=\"text-align: right;\">\n",
       "      <th></th>\n",
       "      <th>ECG</th>\n",
       "      <th>EMG</th>\n",
       "      <th>EDA</th>\n",
       "      <th>Temp</th>\n",
       "      <th>Resp</th>\n",
       "      <th>label_id</th>\n",
       "      <th>label</th>\n",
       "      <th>subject</th>\n",
       "    </tr>\n",
       "  </thead>\n",
       "  <tbody>\n",
       "    <tr>\n",
       "      <th>2927909</th>\n",
       "      <td>-0.029251</td>\n",
       "      <td>-0.000824</td>\n",
       "      <td>3.773880</td>\n",
       "      <td>34.091003</td>\n",
       "      <td>-1.701355</td>\n",
       "      <td>0</td>\n",
       "      <td>Not Defined/Transient</td>\n",
       "      <td>S15</td>\n",
       "    </tr>\n",
       "    <tr>\n",
       "      <th>2387586</th>\n",
       "      <td>0.012177</td>\n",
       "      <td>0.029251</td>\n",
       "      <td>3.409576</td>\n",
       "      <td>34.405579</td>\n",
       "      <td>5.335999</td>\n",
       "      <td>2</td>\n",
       "      <td>Stress</td>\n",
       "      <td>S15</td>\n",
       "    </tr>\n",
       "    <tr>\n",
       "      <th>1644990</th>\n",
       "      <td>0.026779</td>\n",
       "      <td>-0.007645</td>\n",
       "      <td>2.890396</td>\n",
       "      <td>33.963104</td>\n",
       "      <td>-3.556824</td>\n",
       "      <td>4</td>\n",
       "      <td>Meditation</td>\n",
       "      <td>S15</td>\n",
       "    </tr>\n",
       "    <tr>\n",
       "      <th>881514</th>\n",
       "      <td>-0.265411</td>\n",
       "      <td>-0.017990</td>\n",
       "      <td>2.128220</td>\n",
       "      <td>33.762573</td>\n",
       "      <td>-1.039124</td>\n",
       "      <td>1</td>\n",
       "      <td>Baseline</td>\n",
       "      <td>S15</td>\n",
       "    </tr>\n",
       "    <tr>\n",
       "      <th>458095</th>\n",
       "      <td>0.039963</td>\n",
       "      <td>0.067429</td>\n",
       "      <td>1.782608</td>\n",
       "      <td>33.756531</td>\n",
       "      <td>-0.424194</td>\n",
       "      <td>1</td>\n",
       "      <td>Baseline</td>\n",
       "      <td>S15</td>\n",
       "    </tr>\n",
       "    <tr>\n",
       "      <th>363261</th>\n",
       "      <td>-0.077499</td>\n",
       "      <td>0.011993</td>\n",
       "      <td>1.674271</td>\n",
       "      <td>33.689789</td>\n",
       "      <td>2.195740</td>\n",
       "      <td>1</td>\n",
       "      <td>Baseline</td>\n",
       "      <td>S15</td>\n",
       "    </tr>\n",
       "    <tr>\n",
       "      <th>2417154</th>\n",
       "      <td>-0.089859</td>\n",
       "      <td>0.000229</td>\n",
       "      <td>3.432083</td>\n",
       "      <td>34.448456</td>\n",
       "      <td>-2.079773</td>\n",
       "      <td>2</td>\n",
       "      <td>Stress</td>\n",
       "      <td>S15</td>\n",
       "    </tr>\n",
       "    <tr>\n",
       "      <th>2077482</th>\n",
       "      <td>0.098190</td>\n",
       "      <td>-0.005814</td>\n",
       "      <td>3.202057</td>\n",
       "      <td>34.119934</td>\n",
       "      <td>0.523376</td>\n",
       "      <td>0</td>\n",
       "      <td>Not Defined/Transient</td>\n",
       "      <td>S15</td>\n",
       "    </tr>\n",
       "    <tr>\n",
       "      <th>3469025</th>\n",
       "      <td>-0.024994</td>\n",
       "      <td>-0.002701</td>\n",
       "      <td>4.017639</td>\n",
       "      <td>34.274109</td>\n",
       "      <td>-2.406311</td>\n",
       "      <td>4</td>\n",
       "      <td>Meditation</td>\n",
       "      <td>S15</td>\n",
       "    </tr>\n",
       "    <tr>\n",
       "      <th>2387880</th>\n",
       "      <td>-0.097092</td>\n",
       "      <td>0.007095</td>\n",
       "      <td>3.425217</td>\n",
       "      <td>34.457642</td>\n",
       "      <td>0.120544</td>\n",
       "      <td>2</td>\n",
       "      <td>Stress</td>\n",
       "      <td>S15</td>\n",
       "    </tr>\n",
       "    <tr>\n",
       "      <th>1028798</th>\n",
       "      <td>-0.022156</td>\n",
       "      <td>-0.016891</td>\n",
       "      <td>2.219772</td>\n",
       "      <td>33.826294</td>\n",
       "      <td>1.051331</td>\n",
       "      <td>0</td>\n",
       "      <td>Not Defined/Transient</td>\n",
       "      <td>S15</td>\n",
       "    </tr>\n",
       "    <tr>\n",
       "      <th>2486957</th>\n",
       "      <td>-0.105606</td>\n",
       "      <td>-0.006363</td>\n",
       "      <td>3.482437</td>\n",
       "      <td>34.543488</td>\n",
       "      <td>1.490784</td>\n",
       "      <td>2</td>\n",
       "      <td>Stress</td>\n",
       "      <td>S15</td>\n",
       "    </tr>\n",
       "    <tr>\n",
       "      <th>2765896</th>\n",
       "      <td>0.014786</td>\n",
       "      <td>0.075302</td>\n",
       "      <td>3.611374</td>\n",
       "      <td>34.646301</td>\n",
       "      <td>-3.034973</td>\n",
       "      <td>0</td>\n",
       "      <td>Not Defined/Transient</td>\n",
       "      <td>S15</td>\n",
       "    </tr>\n",
       "    <tr>\n",
       "      <th>3322134</th>\n",
       "      <td>0.006546</td>\n",
       "      <td>0.001328</td>\n",
       "      <td>4.000473</td>\n",
       "      <td>34.491364</td>\n",
       "      <td>0.096130</td>\n",
       "      <td>4</td>\n",
       "      <td>Meditation</td>\n",
       "      <td>S15</td>\n",
       "    </tr>\n",
       "    <tr>\n",
       "      <th>122690</th>\n",
       "      <td>-0.083176</td>\n",
       "      <td>-0.018860</td>\n",
       "      <td>1.477051</td>\n",
       "      <td>33.595886</td>\n",
       "      <td>-0.627136</td>\n",
       "      <td>1</td>\n",
       "      <td>Baseline</td>\n",
       "      <td>S15</td>\n",
       "    </tr>\n",
       "    <tr>\n",
       "      <th>1826135</th>\n",
       "      <td>-0.059830</td>\n",
       "      <td>-0.000092</td>\n",
       "      <td>2.985382</td>\n",
       "      <td>34.118439</td>\n",
       "      <td>1.057434</td>\n",
       "      <td>4</td>\n",
       "      <td>Meditation</td>\n",
       "      <td>S15</td>\n",
       "    </tr>\n",
       "    <tr>\n",
       "      <th>3063870</th>\n",
       "      <td>-0.232956</td>\n",
       "      <td>-0.013596</td>\n",
       "      <td>3.836441</td>\n",
       "      <td>34.528137</td>\n",
       "      <td>-0.578308</td>\n",
       "      <td>0</td>\n",
       "      <td>Not Defined/Transient</td>\n",
       "      <td>S15</td>\n",
       "    </tr>\n",
       "    <tr>\n",
       "      <th>102274</th>\n",
       "      <td>0.044540</td>\n",
       "      <td>0.013138</td>\n",
       "      <td>1.451874</td>\n",
       "      <td>33.571655</td>\n",
       "      <td>4.656982</td>\n",
       "      <td>1</td>\n",
       "      <td>Baseline</td>\n",
       "      <td>S15</td>\n",
       "    </tr>\n",
       "    <tr>\n",
       "      <th>3045140</th>\n",
       "      <td>0.349182</td>\n",
       "      <td>0.023392</td>\n",
       "      <td>3.833389</td>\n",
       "      <td>34.384155</td>\n",
       "      <td>4.438782</td>\n",
       "      <td>0</td>\n",
       "      <td>Not Defined/Transient</td>\n",
       "      <td>S15</td>\n",
       "    </tr>\n",
       "    <tr>\n",
       "      <th>2654549</th>\n",
       "      <td>-0.014420</td>\n",
       "      <td>-0.005264</td>\n",
       "      <td>3.631210</td>\n",
       "      <td>34.641663</td>\n",
       "      <td>-11.749268</td>\n",
       "      <td>0</td>\n",
       "      <td>Not Defined/Transient</td>\n",
       "      <td>S15</td>\n",
       "    </tr>\n",
       "  </tbody>\n",
       "</table>\n",
       "</div>"
      ],
      "text/plain": [
       "              ECG       EMG       EDA       Temp       Resp  label_id  \\\n",
       "2927909 -0.029251 -0.000824  3.773880  34.091003  -1.701355         0   \n",
       "2387586  0.012177  0.029251  3.409576  34.405579   5.335999         2   \n",
       "1644990  0.026779 -0.007645  2.890396  33.963104  -3.556824         4   \n",
       "881514  -0.265411 -0.017990  2.128220  33.762573  -1.039124         1   \n",
       "458095   0.039963  0.067429  1.782608  33.756531  -0.424194         1   \n",
       "363261  -0.077499  0.011993  1.674271  33.689789   2.195740         1   \n",
       "2417154 -0.089859  0.000229  3.432083  34.448456  -2.079773         2   \n",
       "2077482  0.098190 -0.005814  3.202057  34.119934   0.523376         0   \n",
       "3469025 -0.024994 -0.002701  4.017639  34.274109  -2.406311         4   \n",
       "2387880 -0.097092  0.007095  3.425217  34.457642   0.120544         2   \n",
       "1028798 -0.022156 -0.016891  2.219772  33.826294   1.051331         0   \n",
       "2486957 -0.105606 -0.006363  3.482437  34.543488   1.490784         2   \n",
       "2765896  0.014786  0.075302  3.611374  34.646301  -3.034973         0   \n",
       "3322134  0.006546  0.001328  4.000473  34.491364   0.096130         4   \n",
       "122690  -0.083176 -0.018860  1.477051  33.595886  -0.627136         1   \n",
       "1826135 -0.059830 -0.000092  2.985382  34.118439   1.057434         4   \n",
       "3063870 -0.232956 -0.013596  3.836441  34.528137  -0.578308         0   \n",
       "102274   0.044540  0.013138  1.451874  33.571655   4.656982         1   \n",
       "3045140  0.349182  0.023392  3.833389  34.384155   4.438782         0   \n",
       "2654549 -0.014420 -0.005264  3.631210  34.641663 -11.749268         0   \n",
       "\n",
       "                         label subject  \n",
       "2927909  Not Defined/Transient     S15  \n",
       "2387586                 Stress     S15  \n",
       "1644990             Meditation     S15  \n",
       "881514                Baseline     S15  \n",
       "458095                Baseline     S15  \n",
       "363261                Baseline     S15  \n",
       "2417154                 Stress     S15  \n",
       "2077482  Not Defined/Transient     S15  \n",
       "3469025             Meditation     S15  \n",
       "2387880                 Stress     S15  \n",
       "1028798  Not Defined/Transient     S15  \n",
       "2486957                 Stress     S15  \n",
       "2765896  Not Defined/Transient     S15  \n",
       "3322134             Meditation     S15  \n",
       "122690                Baseline     S15  \n",
       "1826135             Meditation     S15  \n",
       "3063870  Not Defined/Transient     S15  \n",
       "102274                Baseline     S15  \n",
       "3045140  Not Defined/Transient     S15  \n",
       "2654549  Not Defined/Transient     S15  "
      ]
     },
     "execution_count": 81,
     "metadata": {},
     "output_type": "execute_result"
    }
   ],
   "source": [
    "sample_df = input_chest_data[-1]\n",
    "\n",
    "sample_df.sample(20)"
   ]
  },
  {
   "cell_type": "code",
   "execution_count": 82,
   "metadata": {},
   "outputs": [
    {
     "data": {
      "text/plain": [
       "0    1457401\n",
       "1     822500\n",
       "4     555799\n",
       "2     480200\n",
       "3     260400\n",
       "5     100100\n",
       "Name: label_id, dtype: int64"
      ]
     },
     "execution_count": 82,
     "metadata": {},
     "output_type": "execute_result"
    }
   ],
   "source": [
    "sample_df[\"label_id\"].value_counts()"
   ]
  },
  {
   "cell_type": "code",
   "execution_count": 83,
   "metadata": {},
   "outputs": [
    {
     "name": "stdout",
     "output_type": "stream",
     "text": [
      "<class 'pandas.core.frame.DataFrame'>\n",
      "RangeIndex: 3676400 entries, 0 to 3676399\n",
      "Data columns (total 8 columns):\n",
      " #   Column    Dtype  \n",
      "---  ------    -----  \n",
      " 0   ECG       float64\n",
      " 1   EMG       float64\n",
      " 2   EDA       float64\n",
      " 3   Temp      float32\n",
      " 4   Resp      float64\n",
      " 5   label_id  int32  \n",
      " 6   label     object \n",
      " 7   subject   object \n",
      "dtypes: float32(1), float64(4), int32(1), object(2)\n",
      "memory usage: 196.3+ MB\n"
     ]
    }
   ],
   "source": [
    "sample_df.info()"
   ]
  },
  {
   "cell_type": "code",
   "execution_count": 84,
   "metadata": {},
   "outputs": [
    {
     "data": {
      "text/html": [
       "<div>\n",
       "<style scoped>\n",
       "    .dataframe tbody tr th:only-of-type {\n",
       "        vertical-align: middle;\n",
       "    }\n",
       "\n",
       "    .dataframe tbody tr th {\n",
       "        vertical-align: top;\n",
       "    }\n",
       "\n",
       "    .dataframe thead th {\n",
       "        text-align: right;\n",
       "    }\n",
       "</style>\n",
       "<table border=\"1\" class=\"dataframe\">\n",
       "  <thead>\n",
       "    <tr style=\"text-align: right;\">\n",
       "      <th></th>\n",
       "      <th>count</th>\n",
       "      <th>mean</th>\n",
       "      <th>std</th>\n",
       "      <th>min</th>\n",
       "      <th>25%</th>\n",
       "      <th>50%</th>\n",
       "      <th>75%</th>\n",
       "      <th>max</th>\n",
       "    </tr>\n",
       "  </thead>\n",
       "  <tbody>\n",
       "    <tr>\n",
       "      <th>ECG</th>\n",
       "      <td>3676400.0</td>\n",
       "      <td>0.001106</td>\n",
       "      <td>0.288565</td>\n",
       "      <td>-1.257111</td>\n",
       "      <td>-0.100937</td>\n",
       "      <td>-0.018265</td>\n",
       "      <td>0.020691</td>\n",
       "      <td>1.499496</td>\n",
       "    </tr>\n",
       "    <tr>\n",
       "      <th>EMG</th>\n",
       "      <td>3676400.0</td>\n",
       "      <td>-0.002721</td>\n",
       "      <td>0.018240</td>\n",
       "      <td>-0.379715</td>\n",
       "      <td>-0.010803</td>\n",
       "      <td>-0.002335</td>\n",
       "      <td>0.005081</td>\n",
       "      <td>0.500931</td>\n",
       "    </tr>\n",
       "    <tr>\n",
       "      <th>EDA</th>\n",
       "      <td>3676400.0</td>\n",
       "      <td>2.909373</td>\n",
       "      <td>0.837835</td>\n",
       "      <td>1.250076</td>\n",
       "      <td>2.148819</td>\n",
       "      <td>3.001404</td>\n",
       "      <td>3.648758</td>\n",
       "      <td>4.318237</td>\n",
       "    </tr>\n",
       "    <tr>\n",
       "      <th>Temp</th>\n",
       "      <td>3676400.0</td>\n",
       "      <td>33.014595</td>\n",
       "      <td>1.119261</td>\n",
       "      <td>33.010864</td>\n",
       "      <td>33.815674</td>\n",
       "      <td>34.054443</td>\n",
       "      <td>34.407104</td>\n",
       "      <td>34.907837</td>\n",
       "    </tr>\n",
       "    <tr>\n",
       "      <th>Resp</th>\n",
       "      <td>3676400.0</td>\n",
       "      <td>0.055039</td>\n",
       "      <td>4.501873</td>\n",
       "      <td>-22.190857</td>\n",
       "      <td>-2.311707</td>\n",
       "      <td>-0.172424</td>\n",
       "      <td>2.561951</td>\n",
       "      <td>28.750610</td>\n",
       "    </tr>\n",
       "    <tr>\n",
       "      <th>label_id</th>\n",
       "      <td>3676400.0</td>\n",
       "      <td>1.438308</td>\n",
       "      <td>1.553870</td>\n",
       "      <td>0.000000</td>\n",
       "      <td>0.000000</td>\n",
       "      <td>1.000000</td>\n",
       "      <td>2.000000</td>\n",
       "      <td>5.000000</td>\n",
       "    </tr>\n",
       "  </tbody>\n",
       "</table>\n",
       "</div>"
      ],
      "text/plain": [
       "              count       mean       std        min        25%        50%  \\\n",
       "ECG       3676400.0   0.001106  0.288565  -1.257111  -0.100937  -0.018265   \n",
       "EMG       3676400.0  -0.002721  0.018240  -0.379715  -0.010803  -0.002335   \n",
       "EDA       3676400.0   2.909373  0.837835   1.250076   2.148819   3.001404   \n",
       "Temp      3676400.0  33.014595  1.119261  33.010864  33.815674  34.054443   \n",
       "Resp      3676400.0   0.055039  4.501873 -22.190857  -2.311707  -0.172424   \n",
       "label_id  3676400.0   1.438308  1.553870   0.000000   0.000000   1.000000   \n",
       "\n",
       "                75%        max  \n",
       "ECG        0.020691   1.499496  \n",
       "EMG        0.005081   0.500931  \n",
       "EDA        3.648758   4.318237  \n",
       "Temp      34.407104  34.907837  \n",
       "Resp       2.561951  28.750610  \n",
       "label_id   2.000000   5.000000  "
      ]
     },
     "execution_count": 84,
     "metadata": {},
     "output_type": "execute_result"
    }
   ],
   "source": [
    "sample_df.describe().transpose()"
   ]
  },
  {
   "cell_type": "code",
   "execution_count": 19,
   "metadata": {},
   "outputs": [
    {
     "data": {
      "text/plain": [
       "array([0, 1, 5, 3, 4, 2], dtype=int32)"
      ]
     },
     "execution_count": 19,
     "metadata": {},
     "output_type": "execute_result"
    }
   ],
   "source": [
    "sample_df[\"label_id\"].unique()"
   ]
  },
  {
   "cell_type": "code",
   "execution_count": 20,
   "metadata": {},
   "outputs": [
    {
     "name": "stdout",
     "output_type": "stream",
     "text": [
      "[0 1 2 3 4 5] [1472098  830200  448000  260401  553001  102900]\n",
      "[0 1 2 3 4 5] [0.40148857 0.2264223  0.12218404 0.07101975 0.1508212  0.02806415]\n"
     ]
    }
   ],
   "source": [
    "unique_values, counts = np.unique(sample_df[\"label_id\"], axis=0, return_counts=True)\n",
    "print(f\"{unique_values} {counts}\")\n",
    "print(f\"{unique_values} {counts/sum(counts)}\")"
   ]
  },
  {
   "cell_type": "code",
   "execution_count": 2,
   "metadata": {},
   "outputs": [],
   "source": [
    "def plot_signal_label(df, sample_rate=700):\n",
    "\n",
    "    fig, (ax1, ax2, ax3, ax4, ax5) = plt.subplots(5,1)\n",
    "\n",
    "    df[::sample_rate].plot(figsize=(30, 30), grid=True, y=[\"ECG\", \"label_id\"], ax=ax1)\n",
    "    df[::sample_rate].plot(figsize=(30, 30), grid=True, y=[\"EMG\", \"label_id\"], ax=ax2)\n",
    "    df[::sample_rate].plot(figsize=(30, 30), grid=True, y=[\"EDA\", \"label_id\"], ax=ax3)\n",
    "    df[::sample_rate].plot(figsize=(30, 30), grid=True, y=[\"Temp\", \"label_id\"], ax=ax4)\n",
    "    df[::sample_rate].plot(figsize=(30, 30), grid=True, y=[\"Resp\", \"label_id\"], ax=ax5)\n",
    "    # df[::sample_rate].plot(figsize=(30, 30), grid=True, y=[\"ACC_X\", \"label_id\"], ax=ax6)\n",
    "    # df[::sample_rate].plot(figsize=(30, 30), grid=True, y=[\"ACC_Y\", \"label_id\"], ax=ax7)\n",
    "    # df[::sample_rate].plot(figsize=(30, 30), grid=True, y=[\"ACC_Z\", \"label_id\"], ax=ax8)"
   ]
  },
  {
   "cell_type": "code",
   "execution_count": 22,
   "metadata": {},
   "outputs": [],
   "source": [
    "def plot_corr(df, correlation_type=\"pearson\"):\n",
    "\n",
    "    corr_df  = df.corr(correlation_type)\n",
    "\n",
    "    fig, ax_corr = plt.subplots(1, 1, figsize=(50,20))\n",
    "    sns.heatmap(corr_df, annot=True, ax=ax_corr)\n"
   ]
  },
  {
   "cell_type": "code",
   "execution_count": 23,
   "metadata": {},
   "outputs": [
    {
     "data": {
      "image/png": "[encoded data removed]",
      "text/plain": [
       "<Figure size 2160x2160 with 5 Axes>"
      ]
     },
     "metadata": {
      "needs_background": "light"
     },
     "output_type": "display_data"
    },
    {
     "data": {
      "image/png": "[encoded data removed]",
      "text/plain": [
       "<Figure size 3600x1440 with 2 Axes>"
      ]
     },
     "metadata": {
      "needs_background": "light"
     },
     "output_type": "display_data"
    }
   ],
   "source": [
    "plot_signal_label(sample_df, None)\n",
    "plot_corr(sample_df)"
   ]
  },
  {
   "cell_type": "markdown",
   "metadata": {
    "jp-MarkdownHeadingCollapsed": true,
    "tags": []
   },
   "source": [
    "## Analysis of Win Size and Resample"
   ]
  },
  {
   "cell_type": "code",
   "execution_count": null,
   "metadata": {},
   "outputs": [],
   "source": [
    "def separate_signal(df, signal_label):\n",
    "    label_index = df[df[\"label_id\"] == signal_label].index\n",
    "    label_df = df.iloc[label_index].reset_index(drop=True)\n",
    "    return label_df\n",
    "\n",
    "def get_data_labels_to_classify(df):\n",
    "    return separate_signal(df, 1), separate_signal(df, 2), separate_signal(df, 3)"
   ]
  },
  {
   "cell_type": "code",
   "execution_count": null,
   "metadata": {},
   "outputs": [],
   "source": [
    "baseline_df, stress_df, amusement_df = get_data_labels_to_classify(sample_df)"
   ]
  },
  {
   "cell_type": "code",
   "execution_count": null,
   "metadata": {},
   "outputs": [],
   "source": [
    "# To each label plot:\n",
    "# 1) 1 sec window whitheout resampling \n",
    "# 2) 60 sec window whitheout resampling\n",
    "# 3) 60 sec window whith resampling\n",
    "\n",
    "plt.rcParams.update({'font.size': 12})\n",
    "\n",
    "fig_global, ax_global = plt.subplots(5,9)"
   ]
  },
  {
   "cell_type": "code",
   "execution_count": null,
   "metadata": {},
   "outputs": [],
   "source": [
    "def plot_win_size_analysis(df, sample_rate=700, index_begin=None, index_end=None, figs_posistion_column = 0, colum_fig_title = \"\"):\n",
    "\n",
    "    plot_df = df.iloc[index_begin:index_end:sample_rate]\n",
    "\n",
    "    plot_df.plot(figsize=(60, 40), grid=True, y=[\"ECG\", \"label_id\"], ax=ax_global[0][figs_posistion_column])\n",
    "    plot_df.plot(figsize=(60, 40), grid=True, y=[\"EMG\", \"label_id\"], ax=ax_global[1][figs_posistion_column])\n",
    "    plot_df.plot(figsize=(60, 40), grid=True, y=[\"EDA\", \"label_id\"], ax=ax_global[2][figs_posistion_column])\n",
    "    plot_df.plot(figsize=(60, 40), grid=True, y=[\"Temp\", \"label_id\"], ax=ax_global[3][figs_posistion_column])\n",
    "    plot_df.plot(figsize=(60, 40), grid=True, y=[\"Resp\", \"label_id\"], ax=ax_global[4][figs_posistion_column])\n",
    "\n",
    "    ax_global[0][figs_posistion_column].set_title(colum_fig_title)"
   ]
  },
  {
   "cell_type": "code",
   "execution_count": null,
   "metadata": {},
   "outputs": [],
   "source": [
    "baseline_oneSec_noResampling = plot_win_size_analysis(baseline_df, sample_rate = 1, index_begin = 0, index_end = 700, figs_posistion_column = 0, colum_fig_title = \"Baseline Signal - 1 Second with No Resampling\")\n",
    "baseline_sixtySec_noResampling = plot_win_size_analysis(baseline_df, sample_rate = 1, index_begin = 0, index_end = 42000, figs_posistion_column = 1, colum_fig_title = \"Baseline Signal - 60 Seconds with No Resampling\")\n",
    "baseline_sixtySec_Resampling = plot_win_size_analysis(baseline_df, sample_rate = 700, index_begin = 0, index_end = 42000, figs_posistion_column = 2, colum_fig_title = \"Baseline Signal - 60 Seconds with Resampling\")\n",
    "\n",
    "stress_oneSec_noResampling = plot_win_size_analysis(stress_df, sample_rate = 1, index_begin = 0, index_end = 700, figs_posistion_column = 3, colum_fig_title = \"Stress Signal - 1 Second with No Resampling\")\n",
    "stress_sixtySec_noResampling = plot_win_size_analysis(stress_df, sample_rate = 1, index_begin = 0, index_end = 42000, figs_posistion_column = 4, colum_fig_title = \"Stress Signal - 60 Seconds with No Resampling\")\n",
    "stress_sixtySec_Resampling = plot_win_size_analysis(stress_df, sample_rate = 700, index_begin = 0, index_end = 42000, figs_posistion_column = 5, colum_fig_title = \"Stress Signal - 60 Seconds with Resampling\")\n",
    "\n",
    "amusement_oneSec_noResampling = plot_win_size_analysis(amusement_df, sample_rate = 1, index_begin = 0, index_end = 700, figs_posistion_column = 6, colum_fig_title = \"Amusement Signal - 1 Second with No Resampling\")\n",
    "amusement_sixtySec_noResampling = plot_win_size_analysis(amusement_df, sample_rate = 1, index_begin = 0, index_end = 42000, figs_posistion_column = 7, colum_fig_title = \"Amusement Signal - 60 Seconds with No Resampling\")\n",
    "amusement_sixtySec_Resampling = plot_win_size_analysis(amusement_df, sample_rate = 700, index_begin = 0, index_end = 42000, figs_posistion_column = 8, colum_fig_title = \"Amusement Signal - 60 Seconds with Resampling\")"
   ]
  },
  {
   "cell_type": "code",
   "execution_count": null,
   "metadata": {},
   "outputs": [],
   "source": [
    "fig_global.get_figure()"
   ]
  },
  {
   "cell_type": "markdown",
   "metadata": {
    "jp-MarkdownHeadingCollapsed": true,
    "tags": []
   },
   "source": [
    "## Removing unecessary labels"
   ]
  },
  {
   "cell_type": "code",
   "execution_count": null,
   "metadata": {},
   "outputs": [],
   "source": [
    "indexes_to_drop = sample_df[(sample_df[\"label_id\"] == 0) | (sample_df[\"label_id\"] == 4) | (sample_df[\"label_id\"] == 5)].index"
   ]
  },
  {
   "cell_type": "code",
   "execution_count": null,
   "metadata": {},
   "outputs": [],
   "source": [
    "cleaned_sample_df = sample_df.drop(indexes_to_drop)"
   ]
  },
  {
   "cell_type": "code",
   "execution_count": 11,
   "metadata": {},
   "outputs": [
    {
     "ename": "NameError",
     "evalue": "name 'cleaned_sample_df' is not defined",
     "output_type": "error",
     "traceback": [
      "\u001b[0;31m---------------------------------------------------------------------------\u001b[0m",
      "\u001b[0;31mNameError\u001b[0m                                 Traceback (most recent call last)",
      "\u001b[0;32m/tmp/ipykernel_1756602/2355334858.py\u001b[0m in \u001b[0;36m<module>\u001b[0;34m\u001b[0m\n\u001b[0;32m----> 1\u001b[0;31m \u001b[0mcleaned_sample_df\u001b[0m\u001b[0;34m.\u001b[0m\u001b[0msample\u001b[0m\u001b[0;34m(\u001b[0m\u001b[0;36m20\u001b[0m\u001b[0;34m)\u001b[0m\u001b[0;34m\u001b[0m\u001b[0;34m\u001b[0m\u001b[0m\n\u001b[0m",
      "\u001b[0;31mNameError\u001b[0m: name 'cleaned_sample_df' is not defined"
     ]
    }
   ],
   "source": [
    "cleaned_sample_df.sample(20)"
   ]
  },
  {
   "cell_type": "code",
   "execution_count": null,
   "metadata": {},
   "outputs": [],
   "source": [
    "cleaned_sample_df = cleaned_sample_df.reset_index(drop=True)"
   ]
  },
  {
   "cell_type": "code",
   "execution_count": null,
   "metadata": {},
   "outputs": [],
   "source": [
    "cleaned_sample_df.head()"
   ]
  },
  {
   "cell_type": "code",
   "execution_count": null,
   "metadata": {},
   "outputs": [],
   "source": [
    "cleaned_sample_df[\"label_id\"] = cleaned_sample_df[\"label_id\"] - 1"
   ]
  },
  {
   "cell_type": "code",
   "execution_count": null,
   "metadata": {},
   "outputs": [],
   "source": [
    "cleaned_sample_df.info()"
   ]
  },
  {
   "cell_type": "code",
   "execution_count": null,
   "metadata": {},
   "outputs": [],
   "source": [
    "cleaned_sample_df.describe().T"
   ]
  },
  {
   "cell_type": "code",
   "execution_count": null,
   "metadata": {},
   "outputs": [],
   "source": [
    "plot_signal_label(cleaned_sample_df, None)\n",
    "plot_corr(cleaned_sample_df)"
   ]
  },
  {
   "cell_type": "code",
   "execution_count": null,
   "metadata": {},
   "outputs": [],
   "source": [
    "def adjust_remove_labels(df, labels_to_remove):\n",
    "\n",
    "    df_copy = df.copy()\n",
    "    indexes_to_remove = df_copy[(df_copy[\"label_id\"] == labels_to_remove[0]) | (df_copy[\"label_id\"] == labels_to_remove[1]) | (df_copy[\"label_id\"] == labels_to_remove[2])].index\n",
    "    df_copy = df_copy.drop(indexes_to_remove)\n",
    "\n",
    "    df_copy = df_copy.reset_index(drop=True)\n",
    "\n",
    "    df_copy[\"label_id\"] = df_copy[\"label_id\"] - 1\n",
    "\n",
    "    return df_copy"
   ]
  },
  {
   "cell_type": "code",
   "execution_count": null,
   "metadata": {},
   "outputs": [],
   "source": [
    "clean_input_chest_data = []\n",
    "\n",
    "for data in input_chest_data:\n",
    "    clean_input_chest_data.append(adjust_remove_labels(data, [0, 4, 5]))"
   ]
  },
  {
   "cell_type": "code",
   "execution_count": null,
   "metadata": {},
   "outputs": [],
   "source": [
    "clean_input_chest_data[-1].sample(10)"
   ]
  },
  {
   "cell_type": "code",
   "execution_count": null,
   "metadata": {},
   "outputs": [],
   "source": [
    "plot_signal_label(clean_input_chest_data[-1])\n",
    "plot_corr(clean_input_chest_data[-1])"
   ]
  },
  {
   "cell_type": "markdown",
   "metadata": {
    "jp-MarkdownHeadingCollapsed": true,
    "tags": []
   },
   "source": [
    "## Oversample Data Analysis"
   ]
  },
  {
   "cell_type": "code",
   "execution_count": null,
   "metadata": {},
   "outputs": [],
   "source": [
    "from imblearn.over_sampling import SMOTE"
   ]
  },
  {
   "cell_type": "code",
   "execution_count": null,
   "metadata": {},
   "outputs": [],
   "source": [
    "oversample = SMOTE()"
   ]
  },
  {
   "cell_type": "code",
   "execution_count": null,
   "metadata": {},
   "outputs": [],
   "source": [
    "sample_df[chest_signal_available][::700]"
   ]
  },
  {
   "cell_type": "code",
   "execution_count": null,
   "metadata": {},
   "outputs": [],
   "source": [
    "X, y = oversample.fit_resample(sample_df[chest_signal_available][::700], sample_df[\"label_id\"][::700])"
   ]
  },
  {
   "cell_type": "code",
   "execution_count": null,
   "metadata": {},
   "outputs": [],
   "source": [
    "X"
   ]
  },
  {
   "cell_type": "code",
   "execution_count": null,
   "metadata": {},
   "outputs": [],
   "source": [
    "y.value_counts()"
   ]
  },
  {
   "cell_type": "code",
   "execution_count": null,
   "metadata": {},
   "outputs": [],
   "source": [
    "fig, ax1 = plt.subplots(figsize=(30,10))\n",
    "\n",
    "ax1.plot(X[\"EDA\"])\n",
    "ax1.plot(y)\n",
    "ax1.grid(True)"
   ]
  },
  {
   "cell_type": "markdown",
   "metadata": {
    "jp-MarkdownHeadingCollapsed": true,
    "tags": []
   },
   "source": [
    "## Fourier Analsys"
   ]
  },
  {
   "cell_type": "code",
   "execution_count": 12,
   "metadata": {},
   "outputs": [],
   "source": [
    "# from numpy.fft import fft, ifft, fftfreq\n",
    "# from scipy import pi, signal, fftpack\n",
    "# def annot_max(x, y, ax=None):\n",
    "#     xmax = x[np.argmax(y)]\n",
    "#     ymax = y.max()\n",
    "#     text= \"x={:.3f}, y={:.3f}\".format(xmax, ymax) \n",
    "#     #text = f\"{xmax=}, {ymax=}, (period: {1./xmax} days)\" #Eh, Colab has Python 3.6 ... \n",
    "#     text = f\"x={xmax:.3f}, y={ymax:.3f}, (period: {(1./xmax):.2f} )\"\n",
    "#     if not ax:\n",
    "#         ax=plt.gca()\n",
    "#     bbox_props = dict(boxstyle=\"square,pad=0.3\", fc=\"w\", ec=\"k\", lw=0.72)\n",
    "#     arrowprops=dict(arrowstyle=\"->\",connectionstyle=\"angle,angleA=0,angleB=60\")\n",
    "#     kw = dict(xycoords='data',textcoords=\"axes fraction\",\n",
    "#               arrowprops=arrowprops, bbox=bbox_props, ha=\"right\", va=\"top\")\n",
    "#     ax.annotate(text, xy=(xmax, ymax),  xytext=(0.94, 0.96), **kw)\n",
    "# def plot_fft(signal, signal_name=\"\", f_rate = 700*7/10):\n",
    "#     plt.rcdefaults()\n",
    "\n",
    "#     nobs = len(signal)\n",
    "#     signal_ft = np.abs(fft(signal))\n",
    "#     signal_freq = fftfreq(nobs, 1/f_rate)\n",
    "\n",
    "#     plt.figure(figsize=(20,2))\n",
    "#     plt.plot(signal_freq[2:], signal_ft[2: ])\n",
    "#     annot_max(signal_freq[2:], signal_ft[2: ])\n",
    "#     plt.grid()\n",
    "\n",
    "#     plt.ylabel(f\"{signal_name}\")\n",
    "#     plt.xlabel('frequency')\n",
    "#     plt.show()\n",
    "# for signal in sample_df.columns:\n",
    "#     if (signal != \"label_id\" and signal != \"label\" and signal != \"subject\"):\n",
    "#         plot_fft(sample_df[signal], signal)\n",
    "# for signal in sample_df.columns:\n",
    "#     if (signal != \"label_id\" and signal != \"label\" and signal != \"subject\"):\n",
    "#         plot_fft(sample_df[signal][::700], signal)\n",
    "# for signal in sample_df.columns:\n",
    "#     if (signal != \"label_id\" and signal != \"label\" and signal != \"subject\"):\n",
    "#         plot_fft(sample_df[signal][::700][:60], signal)\n",
    "# def plot_fft(signal, signal_name=\"\", f_rate = 700*7/10):\n",
    "#     plt.rcdefaults()\n",
    "\n",
    "#     nobs = len(signal)\n",
    "#     signal_ft = np.abs(fft(signal))\n",
    "#     signal_freq = fftfreq(nobs, 1/f_rate)\n",
    "\n",
    "#     plt.figure(figsize=(20,2))\n",
    "#     plt.plot(signal_freq[2:], signal_ft[2: ])\n",
    "#     annot_max(signal_freq[2:], signal_ft[2: ])\n",
    "#     plt.grid()\n",
    "\n",
    "#     plt.ylabel(f\"{signal_name}\")\n",
    "#     plt.xlabel('frequency')\n",
    "#     plt.show()\n",
    "# def low_pass(s, threshold=2e4, f_rate = 700*7/10):\n",
    "#     fourier = fft(s)\n",
    "#     frequencies = fftfreq(s.size, f_rate)\n",
    "#     fourier[frequencies > threshold] = 0\n",
    "#     signal_ft = np.abs(fourier)\n",
    "\n",
    "#     plt.figure(figsize=(20,2))\n",
    "#     plt.plot(frequencies[2:], signal_ft[2: ])\n",
    "#     annot_max(frequencies[2:], signal_ft[2: ])\n",
    "#     plt.grid()\n",
    "#     plt.show()\n",
    "\n",
    "#     return np.real_if_close(ifft(fourier))\n",
    "# plot_fft(sample_df[\"ECG\"], \"ECG\")\n",
    "# teste = low_pass(sample_df[\"ECG\"], 6)\n",
    "# teste\n",
    "# plot_fft(low_pass(sample_df[\"ECG\"], threshold = 6), \"ECG\")\n",
    "# plot_fft(sample_df[\"ECG\"], \"ECG\")\n",
    "# fig = plt.figure(figsize=(40,14))\n",
    "# plt.xlabel('time',fontsize=40, labelpad=25)\n",
    "# plt.ylabel('EMG',fontsize=40, labelpad=25)\n",
    "# plt.plot(sample_df[\"ECG\"], linewidth=1)\n",
    "# plt.plot(teste, linewidth=5)\n",
    "# plt.legend(['Real value','FFT smoothing'], prop={'size': 20})\n",
    "# plt.title('',fontsize=40, pad=30)\n",
    "\n",
    "# plt.show()"
   ]
  },
  {
   "cell_type": "markdown",
   "metadata": {},
   "source": [
    "# Cleaning Data"
   ]
  },
  {
   "cell_type": "code",
   "execution_count": 2,
   "metadata": {},
   "outputs": [],
   "source": [
    "# win_size = 60 # will represent 1 minute\n",
    "# win_size = 5*700 # will represent 5 seconds\n",
    "# step_slinding_window = 700//4 # moving the window in 0.25 sec\n",
    "win_size = (60*700)//100\n",
    "step_slinding_window = 1 \n",
    "\n",
    "# win_size = 630\n",
    "\n",
    "def simple_rolling_z_score(x, win_size):\n",
    "    r = x.rolling(window=win_size)\n",
    "    m = r.mean()\n",
    "    s = r.std(ddof=0)\n",
    "    z = (x-m)/s\n",
    "    return z"
   ]
  },
  {
   "cell_type": "code",
   "execution_count": 4,
   "metadata": {},
   "outputs": [],
   "source": [
    "def rolling_z_score(df, win_size, step_slinding_window = 1):\n",
    "\n",
    "    copy_df = df.copy()\n",
    "\n",
    "    for i in range(len(df) - win_size + 1):\n",
    "        slicer = slice(i, win_size + i, step_slinding_window)\n",
    "        mean = df[slicer].mean()\n",
    "        std = df[slicer].std(ddof=0)\n",
    "        \n",
    "        print(f\"Normalazing Window {i}\", end=\"\\r\", flush=True)\n",
    "\n",
    "        copy_df[slicer] = (df[slicer] - mean) / std\n",
    "\n",
    "    return copy_df\n"
   ]
  },
  {
   "cell_type": "code",
   "execution_count": 14,
   "metadata": {},
   "outputs": [
    {
     "name": "stdout",
     "output_type": "stream",
     "text": [
      "Window Size: 420, and Step: 1\n",
      "\n",
      "\n",
      "Start Normalization of Subject S5\n",
      "\n",
      "Normalazing Window 43386\n",
      "\n",
      "Start Normalization of Subject S25\n",
      "\n",
      "Normalazing Window 42133\n",
      "\n",
      "Start Normalization of Subject S32\n",
      "\n",
      "Normalazing Window 45031\n",
      "\n",
      "Start Normalization of Subject S43\n",
      "\n",
      "Normalazing Window 25408\r"
     ]
    },
    {
     "name": "stderr",
     "output_type": "stream",
     "text": [
      "IOPub message rate exceeded.\n",
      "The Jupyter server will temporarily stop sending output\n",
      "to the client in order to avoid crashing it.\n",
      "To change this limit, set the config variable\n",
      "`--ServerApp.iopub_msg_rate_limit`.\n",
      "\n",
      "Current values:\n",
      "ServerApp.iopub_msg_rate_limit=1000.0 (msgs/sec)\n",
      "ServerApp.rate_limit_window=3.0 (secs)\n",
      "\n"
     ]
    },
    {
     "name": "stdout",
     "output_type": "stream",
     "text": [
      "Normalazing Window 36141\n",
      "\n",
      "Start Normalization of Subject S13\n",
      "\n",
      "Normalazing Window 23997\r"
     ]
    },
    {
     "name": "stderr",
     "output_type": "stream",
     "text": [
      "IOPub message rate exceeded.\n",
      "The Jupyter server will temporarily stop sending output\n",
      "to the client in order to avoid crashing it.\n",
      "To change this limit, set the config variable\n",
      "`--ServerApp.iopub_msg_rate_limit`.\n",
      "\n",
      "Current values:\n",
      "ServerApp.iopub_msg_rate_limit=1000.0 (msgs/sec)\n",
      "ServerApp.rate_limit_window=3.0 (secs)\n",
      "\n"
     ]
    },
    {
     "name": "stdout",
     "output_type": "stream",
     "text": [
      "Normalazing Window 15962\r"
     ]
    },
    {
     "name": "stderr",
     "output_type": "stream",
     "text": [
      "IOPub message rate exceeded.\n",
      "The Jupyter server will temporarily stop sending output\n",
      "to the client in order to avoid crashing it.\n",
      "To change this limit, set the config variable\n",
      "`--ServerApp.iopub_msg_rate_limit`.\n",
      "\n",
      "Current values:\n",
      "ServerApp.iopub_msg_rate_limit=1000.0 (msgs/sec)\n",
      "ServerApp.rate_limit_window=3.0 (secs)\n",
      "\n"
     ]
    },
    {
     "name": "stdout",
     "output_type": "stream",
     "text": [
      "Normalazing Window 33653\r"
     ]
    },
    {
     "name": "stderr",
     "output_type": "stream",
     "text": [
      "IOPub message rate exceeded.\n",
      "The Jupyter server will temporarily stop sending output\n",
      "to the client in order to avoid crashing it.\n",
      "To change this limit, set the config variable\n",
      "`--ServerApp.iopub_msg_rate_limit`.\n",
      "\n",
      "Current values:\n",
      "ServerApp.iopub_msg_rate_limit=1000.0 (msgs/sec)\n",
      "ServerApp.rate_limit_window=3.0 (secs)\n",
      "\n"
     ]
    }
   ],
   "source": [
    "clean_chest_data = []\n",
    "\n",
    "print(f\"Window Size: {win_size}, and Step: {step_slinding_window}\\n\\n\")\n",
    "\n",
    "for data_df in input_chest_data:\n",
    "\n",
    "    # Resampling data choosing one point each 700 points\n",
    "    resample_data_df = data_df[::100]\n",
    "\n",
    "    # Separating features and targets\n",
    "    X, y = resample_data_df[chest_signal_available], resample_data_df[\"label_id\"]\n",
    "\n",
    "    # Getting subject label\n",
    "    subject_label = resample_data_df.pop(\"subject\").to_numpy()[0]\n",
    "\n",
    "    # Oversampling data\n",
    "    # X, y = oversample.fit_resample(X, y)\n",
    "\n",
    "    # Convert target to numpy\n",
    "    target = y.to_numpy()\n",
    "\n",
    "    print(f\"Start Normalization of Subject {subject_label}\\n\\n\", end=\"\\r\", flush=True)\n",
    "\n",
    "    # applying rolling score-z\n",
    "    feature_df = rolling_z_score( X, win_size)\n",
    "\n",
    "    print(f\"\\n\\nEnd of Normalization of Subject {subject_label}\", end=\"\\r\", flush=True)\n",
    "\n",
    "    clean_chest_data.append((feature_df, target, subject_label))\n",
    "\n",
    "del input_chest_data\n",
    "gc.collect()"
   ]
  },
  {
   "cell_type": "code",
   "execution_count": 21,
   "metadata": {},
   "outputs": [],
   "source": [
    "with open(\"cleaned_data\", 'wb') as f:\n",
    "    pickle.dump({\n",
    "        \"cleaned_data\": clean_chest_data\n",
    "    }, f)"
   ]
  },
  {
   "cell_type": "code",
   "execution_count": 22,
   "metadata": {},
   "outputs": [
    {
     "name": "stdout",
     "output_type": "stream",
     "text": [
      "FINISHED\n"
     ]
    }
   ],
   "source": [
    "print(\"FINISHED\")"
   ]
  },
  {
   "cell_type": "code",
   "execution_count": 23,
   "metadata": {},
   "outputs": [],
   "source": [
    "f=open(\"cleaned_data\",'rb')\n",
    "data=pickle.load(f,encoding='latin1')\n",
    "# input_chest_data = get_input_chest_data(subjects_available)\n",
    "clean_chest_data = data[\"cleaned_data\"]"
   ]
  },
  {
   "cell_type": "code",
   "execution_count": 24,
   "metadata": {},
   "outputs": [
    {
     "data": {
      "text/plain": [
       "(15, 3)"
      ]
     },
     "execution_count": 24,
     "metadata": {},
     "output_type": "execute_result"
    }
   ],
   "source": [
    "len(clean_chest_data), len(clean_chest_data[-1])"
   ]
  },
  {
   "cell_type": "code",
   "execution_count": 25,
   "metadata": {},
   "outputs": [
    {
     "data": {
      "text/html": [
       "<div>\n",
       "<style scoped>\n",
       "    .dataframe tbody tr th:only-of-type {\n",
       "        vertical-align: middle;\n",
       "    }\n",
       "\n",
       "    .dataframe tbody tr th {\n",
       "        vertical-align: top;\n",
       "    }\n",
       "\n",
       "    .dataframe thead th {\n",
       "        text-align: right;\n",
       "    }\n",
       "</style>\n",
       "<table border=\"1\" class=\"dataframe\">\n",
       "  <thead>\n",
       "    <tr style=\"text-align: right;\">\n",
       "      <th></th>\n",
       "      <th>count</th>\n",
       "      <th>mean</th>\n",
       "      <th>std</th>\n",
       "      <th>min</th>\n",
       "      <th>25%</th>\n",
       "      <th>50%</th>\n",
       "      <th>75%</th>\n",
       "      <th>max</th>\n",
       "    </tr>\n",
       "  </thead>\n",
       "  <tbody>\n",
       "    <tr>\n",
       "      <th>ECG</th>\n",
       "      <td>36764.0</td>\n",
       "      <td>0.000572</td>\n",
       "      <td>1.001112</td>\n",
       "      <td>-2.745188</td>\n",
       "      <td>-0.357551</td>\n",
       "      <td>-0.065496</td>\n",
       "      <td>0.084416</td>\n",
       "      <td>7.126577</td>\n",
       "    </tr>\n",
       "    <tr>\n",
       "      <th>EMG</th>\n",
       "      <td>36764.0</td>\n",
       "      <td>-0.001170</td>\n",
       "      <td>1.033486</td>\n",
       "      <td>-8.452148</td>\n",
       "      <td>-0.498697</td>\n",
       "      <td>0.018170</td>\n",
       "      <td>0.510520</td>\n",
       "      <td>15.990608</td>\n",
       "    </tr>\n",
       "    <tr>\n",
       "      <th>EDA</th>\n",
       "      <td>36764.0</td>\n",
       "      <td>-0.879058</td>\n",
       "      <td>1.094445</td>\n",
       "      <td>-15.859101</td>\n",
       "      <td>-1.547475</td>\n",
       "      <td>-1.038559</td>\n",
       "      <td>-0.443374</td>\n",
       "      <td>9.965831</td>\n",
       "    </tr>\n",
       "    <tr>\n",
       "      <th>Temp</th>\n",
       "      <td>36764.0</td>\n",
       "      <td>-0.246227</td>\n",
       "      <td>1.220402</td>\n",
       "      <td>-6.271583</td>\n",
       "      <td>-1.010028</td>\n",
       "      <td>-0.222978</td>\n",
       "      <td>0.559405</td>\n",
       "      <td>7.536195</td>\n",
       "    </tr>\n",
       "    <tr>\n",
       "      <th>Resp</th>\n",
       "      <td>36764.0</td>\n",
       "      <td>-0.003164</td>\n",
       "      <td>1.065264</td>\n",
       "      <td>-5.589568</td>\n",
       "      <td>-0.593456</td>\n",
       "      <td>-0.059144</td>\n",
       "      <td>0.627566</td>\n",
       "      <td>6.638109</td>\n",
       "    </tr>\n",
       "  </tbody>\n",
       "</table>\n",
       "</div>"
      ],
      "text/plain": [
       "        count      mean       std        min       25%       50%       75%  \\\n",
       "ECG   36764.0  0.000572  1.001112  -2.745188 -0.357551 -0.065496  0.084416   \n",
       "EMG   36764.0 -0.001170  1.033486  -8.452148 -0.498697  0.018170  0.510520   \n",
       "EDA   36764.0 -0.879058  1.094445 -15.859101 -1.547475 -1.038559 -0.443374   \n",
       "Temp  36764.0 -0.246227  1.220402  -6.271583 -1.010028 -0.222978  0.559405   \n",
       "Resp  36764.0 -0.003164  1.065264  -5.589568 -0.593456 -0.059144  0.627566   \n",
       "\n",
       "            max  \n",
       "ECG    7.126577  \n",
       "EMG   15.990608  \n",
       "EDA    9.965831  \n",
       "Temp   7.536195  \n",
       "Resp   6.638109  "
      ]
     },
     "execution_count": 25,
     "metadata": {},
     "output_type": "execute_result"
    }
   ],
   "source": [
    "clean_chest_data[-1][0].describe().T"
   ]
  },
  {
   "cell_type": "code",
   "execution_count": 26,
   "metadata": {},
   "outputs": [],
   "source": [
    "validation_plot_df = pd.concat([clean_chest_data[-1][0].reset_index(), pd.DataFrame(clean_chest_data[-1][1], columns=[\"label_id\"])], axis=1, join=\"inner\")"
   ]
  },
  {
   "cell_type": "code",
   "execution_count": 27,
   "metadata": {},
   "outputs": [
    {
     "data": {
      "text/html": [
       "<div>\n",
       "<style scoped>\n",
       "    .dataframe tbody tr th:only-of-type {\n",
       "        vertical-align: middle;\n",
       "    }\n",
       "\n",
       "    .dataframe tbody tr th {\n",
       "        vertical-align: top;\n",
       "    }\n",
       "\n",
       "    .dataframe thead th {\n",
       "        text-align: right;\n",
       "    }\n",
       "</style>\n",
       "<table border=\"1\" class=\"dataframe\">\n",
       "  <thead>\n",
       "    <tr style=\"text-align: right;\">\n",
       "      <th></th>\n",
       "      <th>index</th>\n",
       "      <th>ECG</th>\n",
       "      <th>EMG</th>\n",
       "      <th>EDA</th>\n",
       "      <th>Temp</th>\n",
       "      <th>Resp</th>\n",
       "      <th>label_id</th>\n",
       "    </tr>\n",
       "  </thead>\n",
       "  <tbody>\n",
       "    <tr>\n",
       "      <th>0</th>\n",
       "      <td>0</td>\n",
       "      <td>-0.073030</td>\n",
       "      <td>-0.989212</td>\n",
       "      <td>-0.553428</td>\n",
       "      <td>-0.612381</td>\n",
       "      <td>0.172338</td>\n",
       "      <td>0</td>\n",
       "    </tr>\n",
       "    <tr>\n",
       "      <th>1</th>\n",
       "      <td>100</td>\n",
       "      <td>0.183725</td>\n",
       "      <td>-0.017348</td>\n",
       "      <td>1.439158</td>\n",
       "      <td>-0.888119</td>\n",
       "      <td>0.040623</td>\n",
       "      <td>0</td>\n",
       "    </tr>\n",
       "    <tr>\n",
       "      <th>2</th>\n",
       "      <td>200</td>\n",
       "      <td>-0.181273</td>\n",
       "      <td>-2.037852</td>\n",
       "      <td>-1.068578</td>\n",
       "      <td>-1.072697</td>\n",
       "      <td>0.064512</td>\n",
       "      <td>0</td>\n",
       "    </tr>\n",
       "    <tr>\n",
       "      <th>3</th>\n",
       "      <td>300</td>\n",
       "      <td>-0.902624</td>\n",
       "      <td>-1.500286</td>\n",
       "      <td>-1.365398</td>\n",
       "      <td>-1.849779</td>\n",
       "      <td>0.207328</td>\n",
       "      <td>0</td>\n",
       "    </tr>\n",
       "    <tr>\n",
       "      <th>4</th>\n",
       "      <td>400</td>\n",
       "      <td>-1.000099</td>\n",
       "      <td>0.532425</td>\n",
       "      <td>-1.713094</td>\n",
       "      <td>-0.814436</td>\n",
       "      <td>0.300228</td>\n",
       "      <td>0</td>\n",
       "    </tr>\n",
       "    <tr>\n",
       "      <th>...</th>\n",
       "      <td>...</td>\n",
       "      <td>...</td>\n",
       "      <td>...</td>\n",
       "      <td>...</td>\n",
       "      <td>...</td>\n",
       "      <td>...</td>\n",
       "      <td>...</td>\n",
       "    </tr>\n",
       "    <tr>\n",
       "      <th>36759</th>\n",
       "      <td>3675900</td>\n",
       "      <td>-1.070759</td>\n",
       "      <td>-0.210678</td>\n",
       "      <td>0.101853</td>\n",
       "      <td>-0.659474</td>\n",
       "      <td>1.370529</td>\n",
       "      <td>0</td>\n",
       "    </tr>\n",
       "    <tr>\n",
       "      <th>36760</th>\n",
       "      <td>3676000</td>\n",
       "      <td>-0.511652</td>\n",
       "      <td>0.126479</td>\n",
       "      <td>0.092461</td>\n",
       "      <td>-1.121810</td>\n",
       "      <td>1.003749</td>\n",
       "      <td>0</td>\n",
       "    </tr>\n",
       "    <tr>\n",
       "      <th>36761</th>\n",
       "      <td>3676100</td>\n",
       "      <td>0.029973</td>\n",
       "      <td>0.905265</td>\n",
       "      <td>0.205159</td>\n",
       "      <td>-0.381704</td>\n",
       "      <td>0.651758</td>\n",
       "      <td>0</td>\n",
       "    </tr>\n",
       "    <tr>\n",
       "      <th>36762</th>\n",
       "      <td>3676200</td>\n",
       "      <td>0.068003</td>\n",
       "      <td>-0.407749</td>\n",
       "      <td>0.073678</td>\n",
       "      <td>-0.427845</td>\n",
       "      <td>0.312136</td>\n",
       "      <td>0</td>\n",
       "    </tr>\n",
       "    <tr>\n",
       "      <th>36763</th>\n",
       "      <td>3676300</td>\n",
       "      <td>-0.079211</td>\n",
       "      <td>-1.051197</td>\n",
       "      <td>-0.010845</td>\n",
       "      <td>-0.936322</td>\n",
       "      <td>0.004514</td>\n",
       "      <td>0</td>\n",
       "    </tr>\n",
       "  </tbody>\n",
       "</table>\n",
       "<p>36764 rows × 7 columns</p>\n",
       "</div>"
      ],
      "text/plain": [
       "         index       ECG       EMG       EDA      Temp      Resp  label_id\n",
       "0            0 -0.073030 -0.989212 -0.553428 -0.612381  0.172338         0\n",
       "1          100  0.183725 -0.017348  1.439158 -0.888119  0.040623         0\n",
       "2          200 -0.181273 -2.037852 -1.068578 -1.072697  0.064512         0\n",
       "3          300 -0.902624 -1.500286 -1.365398 -1.849779  0.207328         0\n",
       "4          400 -1.000099  0.532425 -1.713094 -0.814436  0.300228         0\n",
       "...        ...       ...       ...       ...       ...       ...       ...\n",
       "36759  3675900 -1.070759 -0.210678  0.101853 -0.659474  1.370529         0\n",
       "36760  3676000 -0.511652  0.126479  0.092461 -1.121810  1.003749         0\n",
       "36761  3676100  0.029973  0.905265  0.205159 -0.381704  0.651758         0\n",
       "36762  3676200  0.068003 -0.407749  0.073678 -0.427845  0.312136         0\n",
       "36763  3676300 -0.079211 -1.051197 -0.010845 -0.936322  0.004514         0\n",
       "\n",
       "[36764 rows x 7 columns]"
      ]
     },
     "execution_count": 27,
     "metadata": {},
     "output_type": "execute_result"
    }
   ],
   "source": [
    "validation_plot_df"
   ]
  },
  {
   "cell_type": "code",
   "execution_count": 28,
   "metadata": {},
   "outputs": [
    {
     "data": {
      "image/png": "[encoded data removed]",
      "text/plain": [
       "<Figure size 2160x2160 with 5 Axes>"
      ]
     },
     "metadata": {
      "needs_background": "light"
     },
     "output_type": "display_data"
    }
   ],
   "source": [
    "plot_signal_label(validation_plot_df, None)"
   ]
  },
  {
   "cell_type": "code",
   "execution_count": 30,
   "metadata": {},
   "outputs": [
    {
     "data": {
      "text/plain": [
       "((36764,), 'S15')"
      ]
     },
     "execution_count": 30,
     "metadata": {},
     "output_type": "execute_result"
    }
   ],
   "source": [
    "clean_chest_data[-1][1].shape, clean_chest_data[-1][2]"
   ]
  },
  {
   "cell_type": "code",
   "execution_count": 31,
   "metadata": {},
   "outputs": [
    {
     "name": "stdout",
     "output_type": "stream",
     "text": [
      "[0 1 2 3 4 5] [14574  8225  4802  2604  5558  1001]\n",
      "[0 1 2 3 4 5] [0.39642041 0.2237243  0.13061691 0.07083016 0.1511805  0.02722772]\n"
     ]
    }
   ],
   "source": [
    "unique_values, counts = np.unique(clean_chest_data[-1][1], axis=0, return_counts=True)\n",
    "print(f\"{unique_values} {counts}\")\n",
    "print(f\"{unique_values} {counts/sum(counts)}\")"
   ]
  },
  {
   "cell_type": "code",
   "execution_count": 26,
   "metadata": {},
   "outputs": [],
   "source": [
    "# unique_values, counts = np.unique(cleaned_sample_df[\"label_id\"], axis=0, return_counts=True)\n",
    "# print(f\"{unique_values} {counts}\")\n",
    "# print(f\"{unique_values} {counts/sum(counts)}\")"
   ]
  },
  {
   "cell_type": "markdown",
   "metadata": {},
   "source": [
    "# Windowing"
   ]
  },
  {
   "cell_type": "code",
   "execution_count": 41,
   "metadata": {},
   "outputs": [],
   "source": [
    "# def get_windows(arr, win_size, win_slide):\n",
    "#     I = np.expand_dims(np.arange(win_size), 0) + np.expand_dims(np.arange(len(arr) - win_size + 1, step=win_slide), 0).T\n",
    "#     return arr[I]\n",
    "\n",
    "# def get_most_repeted_element(np_array):\n",
    "#     (unique, counts) = np.unique(np_array, return_counts=True, axis=0)\n",
    "#     most_repeted_element_index = np.where(counts == max(counts))\n",
    "#     percentage_of_elements = counts/sum(counts)\n",
    "#     return unique[most_repeted_element_index[0][0]] , percentage_of_elements[most_repeted_element_index[0][0]]\n",
    "\n",
    "# def get_window_label_labelFreq(np_array, win_size = 60, step_slinding_window = 1):\n",
    "#     windows_features = get_windows(arr = np_array, win_size = win_size, win_slide = step_slinding_window)\n",
    "#     del np_array\n",
    "#     gc.collect()\n",
    "#     return np.array([get_most_repeted_element(arr) for arr in windows_features])\n",
    "\n",
    "# def get_windows_features(np_array, win_size = 60, step_slinding_window = 1):\n",
    "#     windows_features = get_windows(arr = np_array, win_size = win_size, win_slide = step_slinding_window)\n",
    "#     del np_array\n",
    "#     gc.collect()\n",
    "#     return windows_features\n",
    "\n",
    "# def remove_transition_windows(features, targets_targetsFreq, freq_threshold=0.55):\n",
    "#     indexes = np.where(targets_targetsFreq[:,1] < freq_threshold)\n",
    "#     clean_features = np.delete(features, indexes, axis=0)\n",
    "#     clean_targets = np.delete(targets_targetsFreq[:, 0], indexes)\n",
    "#     del features\n",
    "#     del targets_targetsFreq\n",
    "#     gc.collect()\n",
    "#     return clean_features, clean_targets\n",
    "\n",
    "win_size = (60*700)//100\n",
    "step_slinding_window = 1\n",
    "\n",
    "\n",
    "def get_most_repeted_element(np_array):\n",
    "    (unique, counts) = np.unique(np_array, return_counts=True, axis=0)\n",
    "    most_repeted_element_index = np.where(counts == max(counts))\n",
    "    percentage_of_elements = counts/sum(counts)\n",
    "    return unique[most_repeted_element_index[0][0]] , percentage_of_elements[most_repeted_element_index[0][0]]\n",
    "\n",
    "def remove_data(features, targets, label_id):\n",
    "    indexes = np.where(targets == label_id)\n",
    "    return np.delete(features, indexes, axis=0), np.delete(targets, indexes)\n",
    "\n",
    "def update_labels(targets, old_label_id, new_label_id):\n",
    "    '''baseline = 0, stress = 1, amusement = 2'''\n",
    "    indexes = np.where(targets == old_label_id)\n",
    "    targets[indexes] = new_label_id\n",
    "    return targets\n",
    "\n",
    "def get_features_and_targets(features_np_array, targets_np_array, win_size = 60, step_slinding_window = 1, freq_threshold=0.60, verbose=False):\n",
    "    \n",
    "    features = []\n",
    "    targets = []\n",
    "    elemets_debug = []\n",
    "    \n",
    "#     for label_id in [0, 4, 5]:\n",
    "#         features_aux, targets_aux = remove_data(features_np_array, targets_np_array, label_id)\n",
    "\n",
    "    features_aux, targets_aux = features_np_array, targets_np_array\n",
    "\n",
    "\n",
    "#     for old_label_id, new_label_id in [(1, 0), (2, 1), (3, 2)]:\n",
    "#         targets_aux = update_labels(targets_aux, old_label_id, new_label_id)\n",
    "\n",
    "    \n",
    "    for i in range(len(targets_np_array) - win_size + 1):\n",
    "        \n",
    "        print(f\"Window {i}\", end=\"\\r\", flush=True)\n",
    "        \n",
    "        slicer = slice(i, win_size + i)\n",
    "        \n",
    "        feature_window = features_aux[slicer]\n",
    "        target_window = targets_aux[slicer]\n",
    "        \n",
    "        element, element_freq = get_most_repeted_element(target_window)\n",
    "        elemets_debug.append((element, element_freq))\n",
    "        \n",
    "        if element_freq >= freq_threshold:\n",
    "            features.append(feature_window)\n",
    "            targets.append(element)\n",
    "    \n",
    "    return np.array(features), np.array(targets), elemets_debug\n",
    "            "
   ]
  },
  {
   "cell_type": "code",
   "execution_count": 42,
   "metadata": {},
   "outputs": [
    {
     "name": "stdout",
     "output_type": "stream",
     "text": [
      "[0 1 2 3 4 5] [21427  8386  4515  2618  5558  1302]\n",
      "[0 1 2 3 4 5] [0.48913391 0.19143496 0.10306807 0.0597635  0.1268776  0.02972196]\n"
     ]
    }
   ],
   "source": [
    "unique_values, counts = np.unique(clean_chest_data[0][1], axis=0, return_counts=True)\n",
    "print(f\"{unique_values} {counts}\")\n",
    "print(f\"{unique_values} {counts/sum(counts)}\")"
   ]
  },
  {
   "cell_type": "code",
   "execution_count": 48,
   "metadata": {},
   "outputs": [],
   "source": [
    "def remove_data(features, targets, label_id):\n",
    "    indexes = np.where(targets == label_id)\n",
    "    return np.delete(features, indexes, axis=0), np.delete(targets, indexes)\n",
    "\n",
    "def update_labels(targets, old_label_id, new_label_id):\n",
    "    '''baseline = 0, stress = 1, amusement = 2'''\n",
    "    indexes = np.where(targets == old_label_id)\n",
    "    targets[indexes] = new_label_id\n",
    "    return targets"
   ]
  },
  {
   "cell_type": "code",
   "execution_count": null,
   "metadata": {},
   "outputs": [],
   "source": [
    "for label_id in [0, 4, 5]:\n",
    "    features, targets = remove_data(features, targets, label_id)\n",
    "print(features.shape, targets.shape)\n",
    "\n",
    "for old_label_id, new_label_id in [(1, 0), (2, 1), (3, 2)]:\n",
    "    targets = update_labels(targets, old_label_id, new_label_id)\n",
    "print(features.shape, targets.shape)"
   ]
  },
  {
   "cell_type": "code",
   "execution_count": 43,
   "metadata": {},
   "outputs": [
    {
     "name": "stdout",
     "output_type": "stream",
     "text": [
      "Window 2954\r"
     ]
    },
    {
     "name": "stderr",
     "output_type": "stream",
     "text": [
      "IOPub message rate exceeded.\n",
      "The Jupyter server will temporarily stop sending output\n",
      "to the client in order to avoid crashing it.\n",
      "To change this limit, set the config variable\n",
      "`--ServerApp.iopub_msg_rate_limit`.\n",
      "\n",
      "Current values:\n",
      "ServerApp.iopub_msg_rate_limit=1000.0 (msgs/sec)\n",
      "ServerApp.rate_limit_window=3.0 (secs)\n",
      "\n"
     ]
    },
    {
     "name": "stdout",
     "output_type": "stream",
     "text": [
      "Window 8900\r"
     ]
    },
    {
     "name": "stderr",
     "output_type": "stream",
     "text": [
      "IOPub message rate exceeded.\n",
      "The Jupyter server will temporarily stop sending output\n",
      "to the client in order to avoid crashing it.\n",
      "To change this limit, set the config variable\n",
      "`--ServerApp.iopub_msg_rate_limit`.\n",
      "\n",
      "Current values:\n",
      "ServerApp.iopub_msg_rate_limit=1000.0 (msgs/sec)\n",
      "ServerApp.rate_limit_window=3.0 (secs)\n",
      "\n"
     ]
    },
    {
     "name": "stdout",
     "output_type": "stream",
     "text": [
      "Window 14781\r"
     ]
    },
    {
     "name": "stderr",
     "output_type": "stream",
     "text": [
      "IOPub message rate exceeded.\n",
      "The Jupyter server will temporarily stop sending output\n",
      "to the client in order to avoid crashing it.\n",
      "To change this limit, set the config variable\n",
      "`--ServerApp.iopub_msg_rate_limit`.\n",
      "\n",
      "Current values:\n",
      "ServerApp.iopub_msg_rate_limit=1000.0 (msgs/sec)\n",
      "ServerApp.rate_limit_window=3.0 (secs)\n",
      "\n"
     ]
    },
    {
     "name": "stdout",
     "output_type": "stream",
     "text": [
      "Window 20624\r"
     ]
    },
    {
     "name": "stderr",
     "output_type": "stream",
     "text": [
      "IOPub message rate exceeded.\n",
      "The Jupyter server will temporarily stop sending output\n",
      "to the client in order to avoid crashing it.\n",
      "To change this limit, set the config variable\n",
      "`--ServerApp.iopub_msg_rate_limit`.\n",
      "\n",
      "Current values:\n",
      "ServerApp.iopub_msg_rate_limit=1000.0 (msgs/sec)\n",
      "ServerApp.rate_limit_window=3.0 (secs)\n",
      "\n"
     ]
    },
    {
     "name": "stdout",
     "output_type": "stream",
     "text": [
      "Window 26558\r"
     ]
    },
    {
     "name": "stderr",
     "output_type": "stream",
     "text": [
      "IOPub message rate exceeded.\n",
      "The Jupyter server will temporarily stop sending output\n",
      "to the client in order to avoid crashing it.\n",
      "To change this limit, set the config variable\n",
      "`--ServerApp.iopub_msg_rate_limit`.\n",
      "\n",
      "Current values:\n",
      "ServerApp.iopub_msg_rate_limit=1000.0 (msgs/sec)\n",
      "ServerApp.rate_limit_window=3.0 (secs)\n",
      "\n"
     ]
    },
    {
     "name": "stdout",
     "output_type": "stream",
     "text": [
      "Window 32472\r"
     ]
    },
    {
     "name": "stderr",
     "output_type": "stream",
     "text": [
      "IOPub message rate exceeded.\n",
      "The Jupyter server will temporarily stop sending output\n",
      "to the client in order to avoid crashing it.\n",
      "To change this limit, set the config variable\n",
      "`--ServerApp.iopub_msg_rate_limit`.\n",
      "\n",
      "Current values:\n",
      "ServerApp.iopub_msg_rate_limit=1000.0 (msgs/sec)\n",
      "ServerApp.rate_limit_window=3.0 (secs)\n",
      "\n"
     ]
    },
    {
     "name": "stdout",
     "output_type": "stream",
     "text": [
      "Window 38359\r"
     ]
    },
    {
     "name": "stderr",
     "output_type": "stream",
     "text": [
      "IOPub message rate exceeded.\n",
      "The Jupyter server will temporarily stop sending output\n",
      "to the client in order to avoid crashing it.\n",
      "To change this limit, set the config variable\n",
      "`--ServerApp.iopub_msg_rate_limit`.\n",
      "\n",
      "Current values:\n",
      "ServerApp.iopub_msg_rate_limit=1000.0 (msgs/sec)\n",
      "ServerApp.rate_limit_window=3.0 (secs)\n",
      "\n"
     ]
    },
    {
     "name": "stdout",
     "output_type": "stream",
     "text": [
      "Window 43386\r"
     ]
    }
   ],
   "source": [
    "features_test, targets_test, elements_debug = get_features_and_targets(clean_chest_data[0][0].to_numpy(), clean_chest_data[0][1], win_size=win_size, step_slinding_window=step_slinding_window)"
   ]
  },
  {
   "cell_type": "code",
   "execution_count": 44,
   "metadata": {},
   "outputs": [],
   "source": [
    "send_tg_message(\"Terminou de gerar as janelas\")"
   ]
  },
  {
   "cell_type": "code",
   "execution_count": 46,
   "metadata": {},
   "outputs": [
    {
     "data": {
      "text/plain": [
       "((42059, 420, 5), (42059,))"
      ]
     },
     "execution_count": 46,
     "metadata": {},
     "output_type": "execute_result"
    }
   ],
   "source": [
    "features_test.shape, targets_test.shape"
   ]
  },
  {
   "cell_type": "code",
   "execution_count": 45,
   "metadata": {},
   "outputs": [
    {
     "name": "stdout",
     "output_type": "stream",
     "text": [
      "[0 1 2 3 4 5] [20344  8303  4432  2535  5392  1053]\n",
      "[0 1 2 3 4 5] [0.48370147 0.19741316 0.10537578 0.06027247 0.12820086 0.02503626]\n"
     ]
    }
   ],
   "source": [
    "unique_values, counts = np.unique(targets_test, axis=0, return_counts=True)\n",
    "print(f\"{unique_values} {counts}\")\n",
    "print(f\"{unique_values} {counts/sum(counts)}\")"
   ]
  },
  {
   "cell_type": "code",
   "execution_count": 47,
   "metadata": {},
   "outputs": [],
   "source": [
    "validation_data = clean_chest_data.pop()"
   ]
  },
  {
   "cell_type": "code",
   "execution_count": 48,
   "metadata": {},
   "outputs": [
    {
     "data": {
      "text/plain": [
       "'S15'"
      ]
     },
     "execution_count": 48,
     "metadata": {},
     "output_type": "execute_result"
    }
   ],
   "source": [
    "validation_data[2]"
   ]
  },
  {
   "cell_type": "code",
   "execution_count": 49,
   "metadata": {},
   "outputs": [
    {
     "name": "stdout",
     "output_type": "stream",
     "text": [
      "[0 1 2 3 4 5] [14574  8225  4802  2604  5558  1001]\n",
      "[0 1 2 3 4 5] [0.39642041 0.2237243  0.13061691 0.07083016 0.1511805  0.02722772]\n"
     ]
    }
   ],
   "source": [
    "unique_values, counts = np.unique(validation_data[1], axis=0, return_counts=True)\n",
    "print(f\"{unique_values} {counts}\")\n",
    "print(f\"{unique_values} {counts/sum(counts)}\")"
   ]
  },
  {
   "cell_type": "code",
   "execution_count": 50,
   "metadata": {},
   "outputs": [
    {
     "name": "stdout",
     "output_type": "stream",
     "text": [
      "Window 2983\r"
     ]
    },
    {
     "name": "stderr",
     "output_type": "stream",
     "text": [
      "IOPub message rate exceeded.\n",
      "The Jupyter server will temporarily stop sending output\n",
      "to the client in order to avoid crashing it.\n",
      "To change this limit, set the config variable\n",
      "`--ServerApp.iopub_msg_rate_limit`.\n",
      "\n",
      "Current values:\n",
      "ServerApp.iopub_msg_rate_limit=1000.0 (msgs/sec)\n",
      "ServerApp.rate_limit_window=3.0 (secs)\n",
      "\n"
     ]
    },
    {
     "name": "stdout",
     "output_type": "stream",
     "text": [
      "Window 8479\r"
     ]
    },
    {
     "name": "stderr",
     "output_type": "stream",
     "text": [
      "IOPub message rate exceeded.\n",
      "The Jupyter server will temporarily stop sending output\n",
      "to the client in order to avoid crashing it.\n",
      "To change this limit, set the config variable\n",
      "`--ServerApp.iopub_msg_rate_limit`.\n",
      "\n",
      "Current values:\n",
      "ServerApp.iopub_msg_rate_limit=1000.0 (msgs/sec)\n",
      "ServerApp.rate_limit_window=3.0 (secs)\n",
      "\n"
     ]
    },
    {
     "name": "stdout",
     "output_type": "stream",
     "text": [
      "Window 13414"
     ]
    },
    {
     "name": "stderr",
     "output_type": "stream",
     "text": [
      "IOPub message rate exceeded.\n",
      "The Jupyter server will temporarily stop sending output\n",
      "to the client in order to avoid crashing it.\n",
      "To change this limit, set the config variable\n",
      "`--ServerApp.iopub_msg_rate_limit`.\n",
      "\n",
      "Current values:\n",
      "ServerApp.iopub_msg_rate_limit=1000.0 (msgs/sec)\n",
      "ServerApp.rate_limit_window=3.0 (secs)\n",
      "\n"
     ]
    },
    {
     "name": "stdout",
     "output_type": "stream",
     "text": [
      "Window 18116\r"
     ]
    },
    {
     "name": "stderr",
     "output_type": "stream",
     "text": [
      "IOPub message rate exceeded.\n",
      "The Jupyter server will temporarily stop sending output\n",
      "to the client in order to avoid crashing it.\n",
      "To change this limit, set the config variable\n",
      "`--ServerApp.iopub_msg_rate_limit`.\n",
      "\n",
      "Current values:\n",
      "ServerApp.iopub_msg_rate_limit=1000.0 (msgs/sec)\n",
      "ServerApp.rate_limit_window=3.0 (secs)\n",
      "\n"
     ]
    },
    {
     "name": "stdout",
     "output_type": "stream",
     "text": [
      "Window 22935\r"
     ]
    },
    {
     "name": "stderr",
     "output_type": "stream",
     "text": [
      "IOPub message rate exceeded.\n",
      "The Jupyter server will temporarily stop sending output\n",
      "to the client in order to avoid crashing it.\n",
      "To change this limit, set the config variable\n",
      "`--ServerApp.iopub_msg_rate_limit`.\n",
      "\n",
      "Current values:\n",
      "ServerApp.iopub_msg_rate_limit=1000.0 (msgs/sec)\n",
      "ServerApp.rate_limit_window=3.0 (secs)\n",
      "\n"
     ]
    },
    {
     "name": "stdout",
     "output_type": "stream",
     "text": [
      "Window 27447\r"
     ]
    },
    {
     "name": "stderr",
     "output_type": "stream",
     "text": [
      "IOPub message rate exceeded.\n",
      "The Jupyter server will temporarily stop sending output\n",
      "to the client in order to avoid crashing it.\n",
      "To change this limit, set the config variable\n",
      "`--ServerApp.iopub_msg_rate_limit`.\n",
      "\n",
      "Current values:\n",
      "ServerApp.iopub_msg_rate_limit=1000.0 (msgs/sec)\n",
      "ServerApp.rate_limit_window=3.0 (secs)\n",
      "\n"
     ]
    },
    {
     "name": "stdout",
     "output_type": "stream",
     "text": [
      "Window 30586\r"
     ]
    },
    {
     "name": "stderr",
     "output_type": "stream",
     "text": [
      "IOPub message rate exceeded.\n",
      "The Jupyter server will temporarily stop sending output\n",
      "to the client in order to avoid crashing it.\n",
      "To change this limit, set the config variable\n",
      "`--ServerApp.iopub_msg_rate_limit`.\n",
      "\n",
      "Current values:\n",
      "ServerApp.iopub_msg_rate_limit=1000.0 (msgs/sec)\n",
      "ServerApp.rate_limit_window=3.0 (secs)\n",
      "\n"
     ]
    },
    {
     "name": "stdout",
     "output_type": "stream",
     "text": [
      "Window 32867"
     ]
    },
    {
     "name": "stderr",
     "output_type": "stream",
     "text": [
      "IOPub message rate exceeded.\n",
      "The Jupyter server will temporarily stop sending output\n",
      "to the client in order to avoid crashing it.\n",
      "To change this limit, set the config variable\n",
      "`--ServerApp.iopub_msg_rate_limit`.\n",
      "\n",
      "Current values:\n",
      "ServerApp.iopub_msg_rate_limit=1000.0 (msgs/sec)\n",
      "ServerApp.rate_limit_window=3.0 (secs)\n",
      "\n"
     ]
    },
    {
     "name": "stdout",
     "output_type": "stream",
     "text": [
      "Window 36344\r"
     ]
    }
   ],
   "source": [
    "validation_features, validation_targets, _ = get_features_and_targets(validation_data[0].to_numpy(), validation_data[1], win_size=win_size, step_slinding_window=step_slinding_window)"
   ]
  },
  {
   "cell_type": "code",
   "execution_count": 51,
   "metadata": {},
   "outputs": [],
   "source": [
    "send_tg_message(\"Terminou de gerar as janelas da validação\")"
   ]
  },
  {
   "cell_type": "code",
   "execution_count": 52,
   "metadata": {},
   "outputs": [
    {
     "data": {
      "text/plain": [
       "((35017, 420, 5), (35017,))"
      ]
     },
     "execution_count": 52,
     "metadata": {},
     "output_type": "execute_result"
    }
   ],
   "source": [
    "validation_features.shape, validation_targets.shape"
   ]
  },
  {
   "cell_type": "code",
   "execution_count": 53,
   "metadata": {},
   "outputs": [
    {
     "name": "stdout",
     "output_type": "stream",
     "text": [
      "[0 1 2 3 4 5] [13491  8142  4719  2521  5392   752]\n",
      "[0 1 2 3 4 5] [0.38527001 0.23251564 0.13476312 0.0719936  0.15398235 0.02147528]\n"
     ]
    }
   ],
   "source": [
    "unique_values, counts = np.unique(validation_targets, axis=0, return_counts=True)\n",
    "print(f\"{unique_values} {counts}\")\n",
    "print(f\"{unique_values} {counts/sum(counts)}\")"
   ]
  },
  {
   "cell_type": "code",
   "execution_count": null,
   "metadata": {},
   "outputs": [
    {
     "name": "stdout",
     "output_type": "stream",
     "text": [
      "\n",
      "\n",
      "Joinning Window of Subject S5\n",
      "\n",
      "\n",
      "Window 2870\r"
     ]
    },
    {
     "name": "stderr",
     "output_type": "stream",
     "text": [
      "IOPub message rate exceeded.\n",
      "The Jupyter server will temporarily stop sending output\n",
      "to the client in order to avoid crashing it.\n",
      "To change this limit, set the config variable\n",
      "`--ServerApp.iopub_msg_rate_limit`.\n",
      "\n",
      "Current values:\n",
      "ServerApp.iopub_msg_rate_limit=1000.0 (msgs/sec)\n",
      "ServerApp.rate_limit_window=3.0 (secs)\n",
      "\n"
     ]
    },
    {
     "name": "stdout",
     "output_type": "stream",
     "text": [
      "Window 8816\r"
     ]
    },
    {
     "name": "stderr",
     "output_type": "stream",
     "text": [
      "IOPub message rate exceeded.\n",
      "The Jupyter server will temporarily stop sending output\n",
      "to the client in order to avoid crashing it.\n",
      "To change this limit, set the config variable\n",
      "`--ServerApp.iopub_msg_rate_limit`.\n",
      "\n",
      "Current values:\n",
      "ServerApp.iopub_msg_rate_limit=1000.0 (msgs/sec)\n",
      "ServerApp.rate_limit_window=3.0 (secs)\n",
      "\n"
     ]
    },
    {
     "name": "stdout",
     "output_type": "stream",
     "text": [
      "Window 14642\r"
     ]
    },
    {
     "name": "stderr",
     "output_type": "stream",
     "text": [
      "IOPub message rate exceeded.\n",
      "The Jupyter server will temporarily stop sending output\n",
      "to the client in order to avoid crashing it.\n",
      "To change this limit, set the config variable\n",
      "`--ServerApp.iopub_msg_rate_limit`.\n",
      "\n",
      "Current values:\n",
      "ServerApp.iopub_msg_rate_limit=1000.0 (msgs/sec)\n",
      "ServerApp.rate_limit_window=3.0 (secs)\n",
      "\n"
     ]
    },
    {
     "name": "stdout",
     "output_type": "stream",
     "text": [
      "Window 20418\r"
     ]
    },
    {
     "name": "stderr",
     "output_type": "stream",
     "text": [
      "IOPub message rate exceeded.\n",
      "The Jupyter server will temporarily stop sending output\n",
      "to the client in order to avoid crashing it.\n",
      "To change this limit, set the config variable\n",
      "`--ServerApp.iopub_msg_rate_limit`.\n",
      "\n",
      "Current values:\n",
      "ServerApp.iopub_msg_rate_limit=1000.0 (msgs/sec)\n",
      "ServerApp.rate_limit_window=3.0 (secs)\n",
      "\n"
     ]
    },
    {
     "name": "stdout",
     "output_type": "stream",
     "text": [
      "Window 26257\r"
     ]
    },
    {
     "name": "stderr",
     "output_type": "stream",
     "text": [
      "IOPub message rate exceeded.\n",
      "The Jupyter server will temporarily stop sending output\n",
      "to the client in order to avoid crashing it.\n",
      "To change this limit, set the config variable\n",
      "`--ServerApp.iopub_msg_rate_limit`.\n",
      "\n",
      "Current values:\n",
      "ServerApp.iopub_msg_rate_limit=1000.0 (msgs/sec)\n",
      "ServerApp.rate_limit_window=3.0 (secs)\n",
      "\n"
     ]
    },
    {
     "name": "stdout",
     "output_type": "stream",
     "text": [
      "Window 32070\r"
     ]
    },
    {
     "name": "stderr",
     "output_type": "stream",
     "text": [
      "IOPub message rate exceeded.\n",
      "The Jupyter server will temporarily stop sending output\n",
      "to the client in order to avoid crashing it.\n",
      "To change this limit, set the config variable\n",
      "`--ServerApp.iopub_msg_rate_limit`.\n",
      "\n",
      "Current values:\n",
      "ServerApp.iopub_msg_rate_limit=1000.0 (msgs/sec)\n",
      "ServerApp.rate_limit_window=3.0 (secs)\n",
      "\n"
     ]
    },
    {
     "name": "stdout",
     "output_type": "stream",
     "text": [
      "Window 37856\r"
     ]
    },
    {
     "name": "stderr",
     "output_type": "stream",
     "text": [
      "IOPub message rate exceeded.\n",
      "The Jupyter server will temporarily stop sending output\n",
      "to the client in order to avoid crashing it.\n",
      "To change this limit, set the config variable\n",
      "`--ServerApp.iopub_msg_rate_limit`.\n",
      "\n",
      "Current values:\n",
      "ServerApp.iopub_msg_rate_limit=1000.0 (msgs/sec)\n",
      "ServerApp.rate_limit_window=3.0 (secs)\n",
      "\n"
     ]
    },
    {
     "name": "stdout",
     "output_type": "stream",
     "text": [
      "Window 43386\n",
      "\n",
      "Joinning Window of Subject S2\n",
      "\n",
      "\n",
      "Window 274\r"
     ]
    },
    {
     "name": "stderr",
     "output_type": "stream",
     "text": [
      "IOPub message rate exceeded.\n",
      "The Jupyter server will temporarily stop sending output\n",
      "to the client in order to avoid crashing it.\n",
      "To change this limit, set the config variable\n",
      "`--ServerApp.iopub_msg_rate_limit`.\n",
      "\n",
      "Current values:\n",
      "ServerApp.iopub_msg_rate_limit=1000.0 (msgs/sec)\n",
      "ServerApp.rate_limit_window=3.0 (secs)\n",
      "\n"
     ]
    },
    {
     "name": "stdout",
     "output_type": "stream",
     "text": [
      "Window 3827\r"
     ]
    },
    {
     "name": "stderr",
     "output_type": "stream",
     "text": [
      "IOPub message rate exceeded.\n",
      "The Jupyter server will temporarily stop sending output\n",
      "to the client in order to avoid crashing it.\n",
      "To change this limit, set the config variable\n",
      "`--ServerApp.iopub_msg_rate_limit`.\n",
      "\n",
      "Current values:\n",
      "ServerApp.iopub_msg_rate_limit=1000.0 (msgs/sec)\n",
      "ServerApp.rate_limit_window=3.0 (secs)\n",
      "\n"
     ]
    },
    {
     "name": "stdout",
     "output_type": "stream",
     "text": [
      "Window 9834\r"
     ]
    },
    {
     "name": "stderr",
     "output_type": "stream",
     "text": [
      "IOPub message rate exceeded.\n",
      "The Jupyter server will temporarily stop sending output\n",
      "to the client in order to avoid crashing it.\n",
      "To change this limit, set the config variable\n",
      "`--ServerApp.iopub_msg_rate_limit`.\n",
      "\n",
      "Current values:\n",
      "ServerApp.iopub_msg_rate_limit=1000.0 (msgs/sec)\n",
      "ServerApp.rate_limit_window=3.0 (secs)\n",
      "\n"
     ]
    },
    {
     "name": "stdout",
     "output_type": "stream",
     "text": [
      "Window 15573\r"
     ]
    },
    {
     "name": "stderr",
     "output_type": "stream",
     "text": [
      "IOPub message rate exceeded.\n",
      "The Jupyter server will temporarily stop sending output\n",
      "to the client in order to avoid crashing it.\n",
      "To change this limit, set the config variable\n",
      "`--ServerApp.iopub_msg_rate_limit`.\n",
      "\n",
      "Current values:\n",
      "ServerApp.iopub_msg_rate_limit=1000.0 (msgs/sec)\n",
      "ServerApp.rate_limit_window=3.0 (secs)\n",
      "\n"
     ]
    },
    {
     "name": "stdout",
     "output_type": "stream",
     "text": [
      "Window 21380\r"
     ]
    },
    {
     "name": "stderr",
     "output_type": "stream",
     "text": [
      "IOPub message rate exceeded.\n",
      "The Jupyter server will temporarily stop sending output\n",
      "to the client in order to avoid crashing it.\n",
      "To change this limit, set the config variable\n",
      "`--ServerApp.iopub_msg_rate_limit`.\n",
      "\n",
      "Current values:\n",
      "ServerApp.iopub_msg_rate_limit=1000.0 (msgs/sec)\n",
      "ServerApp.rate_limit_window=3.0 (secs)\n",
      "\n"
     ]
    },
    {
     "name": "stdout",
     "output_type": "stream",
     "text": [
      "Window 27164\r"
     ]
    },
    {
     "name": "stderr",
     "output_type": "stream",
     "text": [
      "IOPub message rate exceeded.\n",
      "The Jupyter server will temporarily stop sending output\n",
      "to the client in order to avoid crashing it.\n",
      "To change this limit, set the config variable\n",
      "`--ServerApp.iopub_msg_rate_limit`.\n",
      "\n",
      "Current values:\n",
      "ServerApp.iopub_msg_rate_limit=1000.0 (msgs/sec)\n",
      "ServerApp.rate_limit_window=3.0 (secs)\n",
      "\n"
     ]
    },
    {
     "name": "stdout",
     "output_type": "stream",
     "text": [
      "Window 32969\r"
     ]
    },
    {
     "name": "stderr",
     "output_type": "stream",
     "text": [
      "IOPub message rate exceeded.\n",
      "The Jupyter server will temporarily stop sending output\n",
      "to the client in order to avoid crashing it.\n",
      "To change this limit, set the config variable\n",
      "`--ServerApp.iopub_msg_rate_limit`.\n",
      "\n",
      "Current values:\n",
      "ServerApp.iopub_msg_rate_limit=1000.0 (msgs/sec)\n",
      "ServerApp.rate_limit_window=3.0 (secs)\n",
      "\n"
     ]
    },
    {
     "name": "stdout",
     "output_type": "stream",
     "text": [
      "Window 38782\r"
     ]
    },
    {
     "name": "stderr",
     "output_type": "stream",
     "text": [
      "IOPub message rate exceeded.\n",
      "The Jupyter server will temporarily stop sending output\n",
      "to the client in order to avoid crashing it.\n",
      "To change this limit, set the config variable\n",
      "`--ServerApp.iopub_msg_rate_limit`.\n",
      "\n",
      "Current values:\n",
      "ServerApp.iopub_msg_rate_limit=1000.0 (msgs/sec)\n",
      "ServerApp.rate_limit_window=3.0 (secs)\n",
      "\n"
     ]
    },
    {
     "name": "stdout",
     "output_type": "stream",
     "text": [
      "Window 42133\n",
      "\n",
      "Joinning Window of Subject S3\n",
      "\n",
      "\n",
      "Window 2132\r"
     ]
    },
    {
     "name": "stderr",
     "output_type": "stream",
     "text": [
      "IOPub message rate exceeded.\n",
      "The Jupyter server will temporarily stop sending output\n",
      "to the client in order to avoid crashing it.\n",
      "To change this limit, set the config variable\n",
      "`--ServerApp.iopub_msg_rate_limit`.\n",
      "\n",
      "Current values:\n",
      "ServerApp.iopub_msg_rate_limit=1000.0 (msgs/sec)\n",
      "ServerApp.rate_limit_window=3.0 (secs)\n",
      "\n"
     ]
    },
    {
     "name": "stdout",
     "output_type": "stream",
     "text": [
      "Window 7748\r"
     ]
    },
    {
     "name": "stderr",
     "output_type": "stream",
     "text": [
      "IOPub message rate exceeded.\n",
      "The Jupyter server will temporarily stop sending output\n",
      "to the client in order to avoid crashing it.\n",
      "To change this limit, set the config variable\n",
      "`--ServerApp.iopub_msg_rate_limit`.\n",
      "\n",
      "Current values:\n",
      "ServerApp.iopub_msg_rate_limit=1000.0 (msgs/sec)\n",
      "ServerApp.rate_limit_window=3.0 (secs)\n",
      "\n"
     ]
    },
    {
     "name": "stdout",
     "output_type": "stream",
     "text": [
      "Window 13771"
     ]
    },
    {
     "name": "stderr",
     "output_type": "stream",
     "text": [
      "IOPub message rate exceeded.\n",
      "The Jupyter server will temporarily stop sending output\n",
      "to the client in order to avoid crashing it.\n",
      "To change this limit, set the config variable\n",
      "`--ServerApp.iopub_msg_rate_limit`.\n",
      "\n",
      "Current values:\n",
      "ServerApp.iopub_msg_rate_limit=1000.0 (msgs/sec)\n",
      "ServerApp.rate_limit_window=3.0 (secs)\n",
      "\n"
     ]
    },
    {
     "name": "stdout",
     "output_type": "stream",
     "text": [
      "Window 20031\r"
     ]
    },
    {
     "name": "stderr",
     "output_type": "stream",
     "text": [
      "IOPub message rate exceeded.\n",
      "The Jupyter server will temporarily stop sending output\n",
      "to the client in order to avoid crashing it.\n",
      "To change this limit, set the config variable\n",
      "`--ServerApp.iopub_msg_rate_limit`.\n",
      "\n",
      "Current values:\n",
      "ServerApp.iopub_msg_rate_limit=1000.0 (msgs/sec)\n",
      "ServerApp.rate_limit_window=3.0 (secs)\n",
      "\n"
     ]
    },
    {
     "name": "stdout",
     "output_type": "stream",
     "text": [
      "Window 26174\r"
     ]
    },
    {
     "name": "stderr",
     "output_type": "stream",
     "text": [
      "IOPub message rate exceeded.\n",
      "The Jupyter server will temporarily stop sending output\n",
      "to the client in order to avoid crashing it.\n",
      "To change this limit, set the config variable\n",
      "`--ServerApp.iopub_msg_rate_limit`.\n",
      "\n",
      "Current values:\n",
      "ServerApp.iopub_msg_rate_limit=1000.0 (msgs/sec)\n",
      "ServerApp.rate_limit_window=3.0 (secs)\n",
      "\n"
     ]
    },
    {
     "name": "stdout",
     "output_type": "stream",
     "text": [
      "Window 32009\r"
     ]
    },
    {
     "name": "stderr",
     "output_type": "stream",
     "text": [
      "IOPub message rate exceeded.\n",
      "The Jupyter server will temporarily stop sending output\n",
      "to the client in order to avoid crashing it.\n",
      "To change this limit, set the config variable\n",
      "`--ServerApp.iopub_msg_rate_limit`.\n",
      "\n",
      "Current values:\n",
      "ServerApp.iopub_msg_rate_limit=1000.0 (msgs/sec)\n",
      "ServerApp.rate_limit_window=3.0 (secs)\n",
      "\n"
     ]
    },
    {
     "name": "stdout",
     "output_type": "stream",
     "text": [
      "Window 37887\r"
     ]
    },
    {
     "name": "stderr",
     "output_type": "stream",
     "text": [
      "IOPub message rate exceeded.\n",
      "The Jupyter server will temporarily stop sending output\n",
      "to the client in order to avoid crashing it.\n",
      "To change this limit, set the config variable\n",
      "`--ServerApp.iopub_msg_rate_limit`.\n",
      "\n",
      "Current values:\n",
      "ServerApp.iopub_msg_rate_limit=1000.0 (msgs/sec)\n",
      "ServerApp.rate_limit_window=3.0 (secs)\n",
      "\n"
     ]
    },
    {
     "name": "stdout",
     "output_type": "stream",
     "text": [
      "Window 43714\r"
     ]
    },
    {
     "name": "stderr",
     "output_type": "stream",
     "text": [
      "IOPub message rate exceeded.\n",
      "The Jupyter server will temporarily stop sending output\n",
      "to the client in order to avoid crashing it.\n",
      "To change this limit, set the config variable\n",
      "`--ServerApp.iopub_msg_rate_limit`.\n",
      "\n",
      "Current values:\n",
      "ServerApp.iopub_msg_rate_limit=1000.0 (msgs/sec)\n",
      "ServerApp.rate_limit_window=3.0 (secs)\n",
      "\n"
     ]
    },
    {
     "name": "stdout",
     "output_type": "stream",
     "text": [
      "Window 2911\r"
     ]
    },
    {
     "name": "stderr",
     "output_type": "stream",
     "text": [
      "IOPub message rate exceeded.\n",
      "The Jupyter server will temporarily stop sending output\n",
      "to the client in order to avoid crashing it.\n",
      "To change this limit, set the config variable\n",
      "`--ServerApp.iopub_msg_rate_limit`.\n",
      "\n",
      "Current values:\n",
      "ServerApp.iopub_msg_rate_limit=1000.0 (msgs/sec)\n",
      "ServerApp.rate_limit_window=3.0 (secs)\n",
      "\n"
     ]
    },
    {
     "name": "stdout",
     "output_type": "stream",
     "text": [
      "Window 8812\r"
     ]
    },
    {
     "name": "stderr",
     "output_type": "stream",
     "text": [
      "IOPub message rate exceeded.\n",
      "The Jupyter server will temporarily stop sending output\n",
      "to the client in order to avoid crashing it.\n",
      "To change this limit, set the config variable\n",
      "`--ServerApp.iopub_msg_rate_limit`.\n",
      "\n",
      "Current values:\n",
      "ServerApp.iopub_msg_rate_limit=1000.0 (msgs/sec)\n",
      "ServerApp.rate_limit_window=3.0 (secs)\n",
      "\n"
     ]
    },
    {
     "name": "stdout",
     "output_type": "stream",
     "text": [
      "Window 14724\r"
     ]
    },
    {
     "name": "stderr",
     "output_type": "stream",
     "text": [
      "IOPub message rate exceeded.\n",
      "The Jupyter server will temporarily stop sending output\n",
      "to the client in order to avoid crashing it.\n",
      "To change this limit, set the config variable\n",
      "`--ServerApp.iopub_msg_rate_limit`.\n",
      "\n",
      "Current values:\n",
      "ServerApp.iopub_msg_rate_limit=1000.0 (msgs/sec)\n",
      "ServerApp.rate_limit_window=3.0 (secs)\n",
      "\n"
     ]
    },
    {
     "name": "stdout",
     "output_type": "stream",
     "text": [
      "Window 20486\r"
     ]
    },
    {
     "name": "stderr",
     "output_type": "stream",
     "text": [
      "IOPub message rate exceeded.\n",
      "The Jupyter server will temporarily stop sending output\n",
      "to the client in order to avoid crashing it.\n",
      "To change this limit, set the config variable\n",
      "`--ServerApp.iopub_msg_rate_limit`.\n",
      "\n",
      "Current values:\n",
      "ServerApp.iopub_msg_rate_limit=1000.0 (msgs/sec)\n",
      "ServerApp.rate_limit_window=3.0 (secs)\n",
      "\n"
     ]
    },
    {
     "name": "stdout",
     "output_type": "stream",
     "text": [
      "Window 26417\r"
     ]
    },
    {
     "name": "stderr",
     "output_type": "stream",
     "text": [
      "IOPub message rate exceeded.\n",
      "The Jupyter server will temporarily stop sending output\n",
      "to the client in order to avoid crashing it.\n",
      "To change this limit, set the config variable\n",
      "`--ServerApp.iopub_msg_rate_limit`.\n",
      "\n",
      "Current values:\n",
      "ServerApp.iopub_msg_rate_limit=1000.0 (msgs/sec)\n",
      "ServerApp.rate_limit_window=3.0 (secs)\n",
      "\n"
     ]
    },
    {
     "name": "stdout",
     "output_type": "stream",
     "text": [
      "Window 32214\r"
     ]
    },
    {
     "name": "stderr",
     "output_type": "stream",
     "text": [
      "IOPub message rate exceeded.\n",
      "The Jupyter server will temporarily stop sending output\n",
      "to the client in order to avoid crashing it.\n",
      "To change this limit, set the config variable\n",
      "`--ServerApp.iopub_msg_rate_limit`.\n",
      "\n",
      "Current values:\n",
      "ServerApp.iopub_msg_rate_limit=1000.0 (msgs/sec)\n",
      "ServerApp.rate_limit_window=3.0 (secs)\n",
      "\n"
     ]
    },
    {
     "name": "stdout",
     "output_type": "stream",
     "text": [
      "Window 37998\r"
     ]
    },
    {
     "name": "stderr",
     "output_type": "stream",
     "text": [
      "IOPub message rate exceeded.\n",
      "The Jupyter server will temporarily stop sending output\n",
      "to the client in order to avoid crashing it.\n",
      "To change this limit, set the config variable\n",
      "`--ServerApp.iopub_msg_rate_limit`.\n",
      "\n",
      "Current values:\n",
      "ServerApp.iopub_msg_rate_limit=1000.0 (msgs/sec)\n",
      "ServerApp.rate_limit_window=3.0 (secs)\n",
      "\n"
     ]
    },
    {
     "name": "stdout",
     "output_type": "stream",
     "text": [
      "Window 44276\r"
     ]
    },
    {
     "name": "stderr",
     "output_type": "stream",
     "text": [
      "IOPub message rate exceeded.\n",
      "The Jupyter server will temporarily stop sending output\n",
      "to the client in order to avoid crashing it.\n",
      "To change this limit, set the config variable\n",
      "`--ServerApp.iopub_msg_rate_limit`.\n",
      "\n",
      "Current values:\n",
      "ServerApp.iopub_msg_rate_limit=1000.0 (msgs/sec)\n",
      "ServerApp.rate_limit_window=3.0 (secs)\n",
      "\n"
     ]
    },
    {
     "name": "stdout",
     "output_type": "stream",
     "text": [
      "Window 3414\r"
     ]
    },
    {
     "name": "stderr",
     "output_type": "stream",
     "text": [
      "IOPub message rate exceeded.\n",
      "The Jupyter server will temporarily stop sending output\n",
      "to the client in order to avoid crashing it.\n",
      "To change this limit, set the config variable\n",
      "`--ServerApp.iopub_msg_rate_limit`.\n",
      "\n",
      "Current values:\n",
      "ServerApp.iopub_msg_rate_limit=1000.0 (msgs/sec)\n",
      "ServerApp.rate_limit_window=3.0 (secs)\n",
      "\n"
     ]
    },
    {
     "name": "stdout",
     "output_type": "stream",
     "text": [
      "Window 9243\r"
     ]
    },
    {
     "name": "stderr",
     "output_type": "stream",
     "text": [
      "IOPub message rate exceeded.\n",
      "The Jupyter server will temporarily stop sending output\n",
      "to the client in order to avoid crashing it.\n",
      "To change this limit, set the config variable\n",
      "`--ServerApp.iopub_msg_rate_limit`.\n",
      "\n",
      "Current values:\n",
      "ServerApp.iopub_msg_rate_limit=1000.0 (msgs/sec)\n",
      "ServerApp.rate_limit_window=3.0 (secs)\n",
      "\n"
     ]
    },
    {
     "name": "stdout",
     "output_type": "stream",
     "text": [
      "Window 14907\r"
     ]
    },
    {
     "name": "stderr",
     "output_type": "stream",
     "text": [
      "IOPub message rate exceeded.\n",
      "The Jupyter server will temporarily stop sending output\n",
      "to the client in order to avoid crashing it.\n",
      "To change this limit, set the config variable\n",
      "`--ServerApp.iopub_msg_rate_limit`.\n",
      "\n",
      "Current values:\n",
      "ServerApp.iopub_msg_rate_limit=1000.0 (msgs/sec)\n",
      "ServerApp.rate_limit_window=3.0 (secs)\n",
      "\n"
     ]
    },
    {
     "name": "stdout",
     "output_type": "stream",
     "text": [
      "Window 20705\r"
     ]
    },
    {
     "name": "stderr",
     "output_type": "stream",
     "text": [
      "IOPub message rate exceeded.\n",
      "The Jupyter server will temporarily stop sending output\n",
      "to the client in order to avoid crashing it.\n",
      "To change this limit, set the config variable\n",
      "`--ServerApp.iopub_msg_rate_limit`.\n",
      "\n",
      "Current values:\n",
      "ServerApp.iopub_msg_rate_limit=1000.0 (msgs/sec)\n",
      "ServerApp.rate_limit_window=3.0 (secs)\n",
      "\n"
     ]
    },
    {
     "name": "stdout",
     "output_type": "stream",
     "text": [
      "Window 26535\r"
     ]
    },
    {
     "name": "stderr",
     "output_type": "stream",
     "text": [
      "IOPub message rate exceeded.\n",
      "The Jupyter server will temporarily stop sending output\n",
      "to the client in order to avoid crashing it.\n",
      "To change this limit, set the config variable\n",
      "`--ServerApp.iopub_msg_rate_limit`.\n",
      "\n",
      "Current values:\n",
      "ServerApp.iopub_msg_rate_limit=1000.0 (msgs/sec)\n",
      "ServerApp.rate_limit_window=3.0 (secs)\n",
      "\n"
     ]
    },
    {
     "name": "stdout",
     "output_type": "stream",
     "text": [
      "Window 32337\r"
     ]
    },
    {
     "name": "stderr",
     "output_type": "stream",
     "text": [
      "IOPub message rate exceeded.\n",
      "The Jupyter server will temporarily stop sending output\n",
      "to the client in order to avoid crashing it.\n",
      "To change this limit, set the config variable\n",
      "`--ServerApp.iopub_msg_rate_limit`.\n",
      "\n",
      "Current values:\n",
      "ServerApp.iopub_msg_rate_limit=1000.0 (msgs/sec)\n",
      "ServerApp.rate_limit_window=3.0 (secs)\n",
      "\n"
     ]
    },
    {
     "name": "stdout",
     "output_type": "stream",
     "text": [
      "Window 38270\r"
     ]
    },
    {
     "name": "stderr",
     "output_type": "stream",
     "text": [
      "IOPub message rate exceeded.\n",
      "The Jupyter server will temporarily stop sending output\n",
      "to the client in order to avoid crashing it.\n",
      "To change this limit, set the config variable\n",
      "`--ServerApp.iopub_msg_rate_limit`.\n",
      "\n",
      "Current values:\n",
      "ServerApp.iopub_msg_rate_limit=1000.0 (msgs/sec)\n",
      "ServerApp.rate_limit_window=3.0 (secs)\n",
      "\n"
     ]
    },
    {
     "name": "stdout",
     "output_type": "stream",
     "text": [
      "\n",
      "\n",
      "Joinning Window of Subject S10\n",
      "\n",
      "\n",
      "Window 2704\r"
     ]
    },
    {
     "name": "stderr",
     "output_type": "stream",
     "text": [
      "IOPub message rate exceeded.\n",
      "The Jupyter server will temporarily stop sending output\n",
      "to the client in order to avoid crashing it.\n",
      "To change this limit, set the config variable\n",
      "`--ServerApp.iopub_msg_rate_limit`.\n",
      "\n",
      "Current values:\n",
      "ServerApp.iopub_msg_rate_limit=1000.0 (msgs/sec)\n",
      "ServerApp.rate_limit_window=3.0 (secs)\n",
      "\n"
     ]
    },
    {
     "name": "stdout",
     "output_type": "stream",
     "text": [
      "Window 7020\r"
     ]
    }
   ],
   "source": [
    "features = []\n",
    "targets = []\n",
    "i = 0\n",
    "\n",
    "for data in clean_chest_data:\n",
    "    \n",
    "    print(f\"\\n\\nJoinning Window of Subject {data[2]}\\n\\n\")\n",
    "    send_tg_message(f\"Joinning Window of Subject {data[2]}, we have {len(clean_chest_data) - i} to go.\")\n",
    "    i = i + 1\n",
    "\n",
    "    subject_features, subject_targets, _ = get_features_and_targets(data[0].to_numpy(), data[1], win_size=win_size, step_slinding_window=step_slinding_window)\n",
    "    features.append(subject_features)\n",
    "    targets.append(subject_targets)\n",
    "\n",
    "    del subject_features\n",
    "    del subject_targets\n",
    "    del data\n",
    "\n",
    "    gc.collect()\n",
    "\n",
    "del clean_chest_data\n",
    "gc.collect()\n",
    "\n",
    "features = np.array(features)\n",
    "targets = np.array(targets)\n",
    "\n",
    "send_tg_message(\"Terminou carai!\")"
   ]
  },
  {
   "cell_type": "code",
   "execution_count": null,
   "metadata": {},
   "outputs": [],
   "source": [
    "# features_raw = np.concatenate(tuple(get_windows_features(data[0].to_numpy(), win_size=win_size, step_slinding_window=step_slinding_window) for data in clean_chest_data), axis=0)\n",
    "# targets_targetsFreq_raw = np.concatenate(tuple(get_window_label_labelFreq(data[1], win_size=win_size, step_slinding_window=step_slinding_window) for data in clean_chest_data), axis=0)\n",
    "# features, targets = remove_transition_windows(features_raw, targets_targetsFreq_raw)"
   ]
  },
  {
   "cell_type": "code",
   "execution_count": null,
   "metadata": {},
   "outputs": [],
   "source": [
    "features.shape, targets.shape"
   ]
  },
  {
   "cell_type": "markdown",
   "metadata": {},
   "source": [
    "# Model"
   ]
  },
  {
   "cell_type": "code",
   "execution_count": 38,
   "metadata": {},
   "outputs": [],
   "source": [
    "from sklearn.model_selection import train_test_split\n",
    "from sklearn.utils.class_weight import compute_class_weight\n",
    "\n",
    "from tensorflow.keras.models import Sequential\n",
    "from tensorflow.keras.layers import Dense, LSTM, Dropout, LeakyReLU, Activation, GRU, GaussianNoise, Flatten\n",
    "from tensorflow.keras.regularizers import L1, L2\n",
    "from tensorflow.keras.constraints import max_norm\n",
    "from tensorflow.keras.callbacks import EarlyStopping, TensorBoard\n",
    "from tensorflow import convert_to_tensor\n",
    "\n",
    "import datetime"
   ]
  },
  {
   "cell_type": "markdown",
   "metadata": {},
   "source": [
    "## Adjusting data for the model"
   ]
  },
  {
   "cell_type": "markdown",
   "metadata": {},
   "source": [
    "To compare with wesade article, the model will classify only Baseline x Stress x Amusement"
   ]
  },
  {
   "cell_type": "code",
   "execution_count": null,
   "metadata": {},
   "outputs": [],
   "source": [
    "def remove_data(features, targets, label_id):\n",
    "    indexes = np.where(targets == label_id)\n",
    "    return np.delete(features, indexes, axis=0), np.delete(targets, indexes)\n",
    "\n",
    "def update_labels(targets, old_label_id, new_label_id):\n",
    "    '''baseline = 0, stress = 1, amusement = 2'''\n",
    "    indexes = np.where(targets == old_label_id)\n",
    "    targets[indexes] = new_label_id\n",
    "    return targets"
   ]
  },
  {
   "cell_type": "code",
   "execution_count": null,
   "metadata": {},
   "outputs": [],
   "source": [
    "for label_id in [0, 4, 5]:\n",
    "    features, targets = remove_data(features, targets, label_id)\n",
    "print(features.shape, targets.shape)\n",
    "\n",
    "for old_label_id, new_label_id in [(1, 0), (2, 1), (3, 2)]:\n",
    "    targets = update_labels(targets, old_label_id, new_label_id)\n",
    "print(features.shape, targets.shape)"
   ]
  },
  {
   "cell_type": "code",
   "execution_count": 42,
   "metadata": {},
   "outputs": [
    {
     "name": "stdout",
     "output_type": "stream",
     "text": [
      "[1. 2. 3.] [114071  64078  35539]\n",
      "[1. 2. 3.] [0.53382034 0.2998671  0.16631257]\n"
     ]
    }
   ],
   "source": [
    "unique_values, counts = np.unique(targets, axis=0, return_counts=True)\n",
    "print(f\"{unique_values} {counts}\")\n",
    "print(f\"{unique_values} {counts/sum(counts)}\")"
   ]
  },
  {
   "cell_type": "code",
   "execution_count": 43,
   "metadata": {},
   "outputs": [
    {
     "data": {
      "text/plain": [
       "((213688, 630, 5), (213688,))"
      ]
     },
     "execution_count": 43,
     "metadata": {},
     "output_type": "execute_result"
    }
   ],
   "source": [
    "for old_label_id, new_label_id in [(1, 0), (2, 1), (3, 2)]:\n",
    "    targets = update_labels(targets, old_label_id, new_label_id)\n",
    "features.shape, targets.shape"
   ]
  },
  {
   "cell_type": "code",
   "execution_count": 44,
   "metadata": {},
   "outputs": [
    {
     "name": "stdout",
     "output_type": "stream",
     "text": [
      "[0. 1. 2.] [114071  64078  35539]\n",
      "[0. 1. 2.] [0.53382034 0.2998671  0.16631257]\n"
     ]
    }
   ],
   "source": [
    "unique_values, counts = np.unique(targets, axis=0, return_counts=True)\n",
    "print(f\"{unique_values} {counts}\")\n",
    "print(f\"{unique_values} {counts/sum(counts)}\")"
   ]
  },
  {
   "cell_type": "code",
   "execution_count": 45,
   "metadata": {},
   "outputs": [
    {
     "data": {
      "text/plain": [
       "((34322, 630, 5), (34322,))"
      ]
     },
     "execution_count": 45,
     "metadata": {},
     "output_type": "execute_result"
    }
   ],
   "source": [
    "validation_features.shape, validation_targets.shape"
   ]
  },
  {
   "cell_type": "code",
   "execution_count": 46,
   "metadata": {},
   "outputs": [
    {
     "data": {
      "text/plain": [
       "((15442, 630, 5), (15442,))"
      ]
     },
     "execution_count": 46,
     "metadata": {},
     "output_type": "execute_result"
    }
   ],
   "source": [
    "for label_id in [0, 4, 5]:\n",
    "    validation_features, validation_targets = remove_data(validation_features, validation_targets, label_id)\n",
    "validation_features.shape, validation_targets.shape"
   ]
  },
  {
   "cell_type": "code",
   "execution_count": 47,
   "metadata": {},
   "outputs": [
    {
     "data": {
      "text/plain": [
       "((15442, 630, 5), (15442,))"
      ]
     },
     "execution_count": 47,
     "metadata": {},
     "output_type": "execute_result"
    }
   ],
   "source": [
    "for old_label_id, new_label_id in [(1, 0), (2, 1), (3, 2)]:\n",
    "    validation_targets = update_labels(validation_targets, old_label_id, new_label_id)\n",
    "validation_features.shape, validation_targets.shape"
   ]
  },
  {
   "cell_type": "code",
   "execution_count": 48,
   "metadata": {},
   "outputs": [
    {
     "name": "stdout",
     "output_type": "stream",
     "text": [
      "[0. 1. 2.] [114071  64078  35539]\n",
      "[0. 1. 2.] [0.53382034 0.2998671  0.16631257]\n"
     ]
    }
   ],
   "source": [
    "unique_values, counts = np.unique(targets, axis=0, return_counts=True)\n",
    "print(f\"{unique_values} {counts}\")\n",
    "print(f\"{unique_values} {counts/sum(counts)}\")"
   ]
  },
  {
   "cell_type": "code",
   "execution_count": 49,
   "metadata": {},
   "outputs": [],
   "source": [
    "num_classes = len(unique_values)"
   ]
  },
  {
   "cell_type": "code",
   "execution_count": 50,
   "metadata": {},
   "outputs": [
    {
     "data": {
      "text/plain": [
       "{0: 0.6244298141800575, 1: 1.1116035664866777, 2: 2.0042582327396192}"
      ]
     },
     "execution_count": 50,
     "metadata": {},
     "output_type": "execute_result"
    }
   ],
   "source": [
    "weights = compute_class_weight(class_weight = \"balanced\", classes = np.unique(targets), y = targets)\n",
    "weights = {i : weights[i] for i in range(len(weights))}\n",
    "weights"
   ]
  },
  {
   "cell_type": "code",
   "execution_count": 51,
   "metadata": {},
   "outputs": [],
   "source": [
    "x_train, x_test, y_train, y_test = train_test_split(features, targets, test_size=0.4, stratify=targets)"
   ]
  },
  {
   "cell_type": "code",
   "execution_count": 52,
   "metadata": {},
   "outputs": [
    {
     "data": {
      "text/plain": [
       "((128212, 630, 5), (85476, 630, 5))"
      ]
     },
     "execution_count": 52,
     "metadata": {},
     "output_type": "execute_result"
    }
   ],
   "source": [
    "x_train.shape, x_test.shape"
   ]
  },
  {
   "cell_type": "code",
   "execution_count": 53,
   "metadata": {},
   "outputs": [
    {
     "data": {
      "text/plain": [
       "((128212,), (85476,))"
      ]
     },
     "execution_count": 53,
     "metadata": {},
     "output_type": "execute_result"
    }
   ],
   "source": [
    "y_train.shape, y_test.shape"
   ]
  },
  {
   "cell_type": "code",
   "execution_count": 54,
   "metadata": {},
   "outputs": [
    {
     "name": "stderr",
     "output_type": "stream",
     "text": [
      "2022-01-10 09:57:39.276084: I tensorflow/core/platform/cpu_feature_guard.cc:151] This TensorFlow binary is optimized with oneAPI Deep Neural Network Library (oneDNN) to use the following CPU instructions in performance-critical operations:  AVX2 FMA\n",
      "To enable them in other operations, rebuild TensorFlow with the appropriate compiler flags.\n",
      "2022-01-10 09:57:39.596740: I tensorflow/core/common_runtime/gpu/gpu_device.cc:1525] Created device /job:localhost/replica:0/task:0/device:GPU:0 with 13793 MB memory:  -> device: 0, name: Tesla T4, pci bus id: 0000:41:00.0, compute capability: 7.5\n",
      "2022-01-10 09:57:39.597880: W tensorflow/core/framework/cpu_allocator_impl.cc:82] Allocation of 3230942400 exceeds 10% of free system memory.\n",
      "2022-01-10 09:57:40.825885: W tensorflow/core/framework/cpu_allocator_impl.cc:82] Allocation of 2153995200 exceeds 10% of free system memory.\n"
     ]
    }
   ],
   "source": [
    "x_train_tensor = convert_to_tensor(x_train)\n",
    "x_test_tensor = convert_to_tensor(x_test)\n",
    "y_train_tensor = convert_to_tensor(y_train, dtype=\"int64\")\n",
    "y_test_tensor = convert_to_tensor(y_test, dtype=\"int64\")"
   ]
  },
  {
   "cell_type": "code",
   "execution_count": 55,
   "metadata": {},
   "outputs": [
    {
     "data": {
      "text/plain": [
       "(TensorShape([128212, 630, 5]), TensorShape([85476, 630, 5]))"
      ]
     },
     "execution_count": 55,
     "metadata": {},
     "output_type": "execute_result"
    }
   ],
   "source": [
    "x_train_tensor.shape, x_test_tensor.shape"
   ]
  },
  {
   "cell_type": "code",
   "execution_count": 56,
   "metadata": {},
   "outputs": [
    {
     "data": {
      "text/plain": [
       "(TensorShape([128212]), TensorShape([85476]))"
      ]
     },
     "execution_count": 56,
     "metadata": {},
     "output_type": "execute_result"
    }
   ],
   "source": [
    "y_train_tensor.shape, y_test_tensor.shape"
   ]
  },
  {
   "cell_type": "markdown",
   "metadata": {},
   "source": [
    "## Model"
   ]
  },
  {
   "cell_type": "code",
   "execution_count": 57,
   "metadata": {},
   "outputs": [
    {
     "data": {
      "text/plain": [
       "(3, 5)"
      ]
     },
     "execution_count": 57,
     "metadata": {},
     "output_type": "execute_result"
    }
   ],
   "source": [
    "num_classes, num_features"
   ]
  },
  {
   "cell_type": "code",
   "execution_count": 58,
   "metadata": {},
   "outputs": [],
   "source": [
    "def lstm(model = None):\n",
    "    model.add(LSTM(128, input_shape=(win_size, num_features), return_sequences=True))\n",
    "    model.add(LeakyReLU(alpha=0.5))\n",
    "    model.add(GaussianNoise(0.5))\n",
    "    model.add(Dropout(0.3))\n",
    "    model.add(Flatten())\n",
    "    model.add(Dense(num_classes, activity_regularizer = L2(0.000001), bias_constraint = max_norm(3)))\n",
    "\n",
    "def gru(model = None):\n",
    "    model.add(GRU(128, input_shape=(win_size, num_features), return_sequences=True))\n",
    "    model.add(LeakyReLU(alpha=0.5))\n",
    "    model.add(GaussianNoise(0.5))\n",
    "    model.add(Dropout(0.3))\n",
    "    model.add(Flatten())\n",
    "    model.add(Dense(num_classes, activity_regularizer = L2(0.000001), bias_constraint = max_norm(3)))\n"
   ]
  },
  {
   "cell_type": "code",
   "execution_count": 59,
   "metadata": {},
   "outputs": [],
   "source": [
    "# duas lstm uma dropout e uma dense\n",
    "# testar uma GRU (trocar todas as LSTM por elas)\n",
    "\n",
    "\n",
    "def create_model(has_activator, last_activation_layer, hidden_layer_type, optimizer):\n",
    "\n",
    "    model = Sequential()\n",
    "    hidden_layer_type(model)\n",
    "    if has_activator:\n",
    "        model.add(Activation(last_activation_layer))\n",
    "    model.build()\n",
    "\n",
    "    model.summary()\n",
    "\n",
    "    model.compile(\n",
    "        loss = \"sparse_categorical_crossentropy\",\n",
    "        optimizer = optimizer, #nadam or rmstrop\n",
    "        metrics = [\"sparse_categorical_accuracy\", \"accuracy\"]\n",
    "    )\n",
    "\n",
    "    return model\n"
   ]
  },
  {
   "cell_type": "code",
   "execution_count": 60,
   "metadata": {},
   "outputs": [],
   "source": [
    "models_to_test = {\n",
    "    \"softmax_lstm_adam\": {\n",
    "        \"has_activator\": True,\n",
    "        \"activator_layer\": \"softmax\",\n",
    "        \"color_plot\": \"blue\",\n",
    "        \"layers\": lstm,\n",
    "        \"optimizer\": \"adam\",\n",
    "        \"callbacks\": [\n",
    "            EarlyStopping(monitor='val_accuracy', patience=20, mode='min'),\n",
    "            TensorBoard(log_dir = \"logs/softmax/lstm/adam/fit/\" + datetime.datetime.now().strftime(\"%Y%m%d-%H%M%S\"), write_graph=True, histogram_freq=5)\n",
    "        ]\n",
    "    },\n",
    "    \"softmax_lstm_nadam\": {\n",
    "        \"has_activator\": True,\n",
    "        \"activator_layer\": \"softmax\",\n",
    "        \"color_plot\": \"red\",\n",
    "        \"layers\": lstm,\n",
    "        \"optimizer\": \"nadam\",\n",
    "        \"callbacks\": [\n",
    "            EarlyStopping(monitor='val_accuracy', patience=20, mode='min'),\n",
    "            TensorBoard(log_dir = \"logs/softmax/lstm/nadam/fit/\" + datetime.datetime.now().strftime(\"%Y%m%d-%H%M%S\"), write_graph=True, histogram_freq=5)\n",
    "        ]\n",
    "    },\n",
    "    \"softmax_lstm_rmsprop\": {\n",
    "        \"has_activator\": True,\n",
    "        \"activator_layer\": \"softmax\",\n",
    "        \"color_plot\": \"green\",\n",
    "        \"layers\": lstm,\n",
    "        \"optimizer\": \"rmsprop\",\n",
    "        \"callbacks\": [\n",
    "            EarlyStopping(monitor='val_accuracy', patience=20, mode='min'),\n",
    "            TensorBoard(log_dir = \"logs/softmax/lstm/rmsprop/fit/\" + datetime.datetime.now().strftime(\"%Y%m%d-%H%M%S\"), write_graph=True, histogram_freq=5)\n",
    "        ]\n",
    "    },\n",
    "    \"softmax_gru_adam\": {\n",
    "        \"has_activator\": True,\n",
    "        \"activator_layer\": \"softmax\",\n",
    "        \"color_plot\": \"yellow\",\n",
    "        \"layers\": gru,\n",
    "        \"optimizer\": \"adam\",\n",
    "        \"callbacks\": [\n",
    "            EarlyStopping(monitor='val_accuracy', patience=20, mode='min'),\n",
    "            TensorBoard(log_dir = \"logs/softmax/gru/adam/fit/\" + datetime.datetime.now().strftime(\"%Y%m%d-%H%M%S\"), write_graph=True, histogram_freq=5)\n",
    "        ]\n",
    "    },\n",
    "    \"softmax_gru_nadam\": {\n",
    "        \"has_activator\": True,\n",
    "        \"activator_layer\": \"softmax\",\n",
    "        \"color_plot\": \"magenta\",\n",
    "        \"layers\": gru,\n",
    "        \"optimizer\": \"nadam\",\n",
    "        \"callbacks\": [\n",
    "            EarlyStopping(monitor='val_accuracy', patience=20, mode='min'),\n",
    "            TensorBoard(log_dir = \"logs/softmax/gru/nadam/fit/\" + datetime.datetime.now().strftime(\"%Y%m%d-%H%M%S\"), write_graph=True, histogram_freq=5)\n",
    "        ]\n",
    "    },\n",
    "    \"softmax_gru_rmsprop\": {\n",
    "        \"has_activator\": True,\n",
    "        \"activator_layer\": \"softmax\",\n",
    "        \"color_plot\": \"cyan\",\n",
    "        \"layers\": gru,\n",
    "        \"optimizer\": \"rmsprop\",\n",
    "        \"callbacks\": [\n",
    "            EarlyStopping(monitor='val_accuracy', patience=20, mode='min'),\n",
    "            TensorBoard(log_dir = \"logs/softmax/gru/rmsprop/fit/\" + datetime.datetime.now().strftime(\"%Y%m%d-%H%M%S\"), write_graph=True, histogram_freq=5)\n",
    "        ]\n",
    "    }   \n",
    "}"
   ]
  },
  {
   "cell_type": "code",
   "execution_count": null,
   "metadata": {},
   "outputs": [
    {
     "name": "stdout",
     "output_type": "stream",
     "text": [
      "Model: \"sequential\"\n",
      "_________________________________________________________________\n",
      " Layer (type)                Output Shape              Param #   \n",
      "=================================================================\n",
      " lstm (LSTM)                 (None, 630, 128)          68608     \n",
      "                                                                 \n",
      " leaky_re_lu (LeakyReLU)     (None, 630, 128)          0         \n",
      "                                                                 \n",
      " gaussian_noise (GaussianNoi  (None, 630, 128)         0         \n",
      " se)                                                             \n",
      "                                                                 \n",
      " dropout (Dropout)           (None, 630, 128)          0         \n",
      "                                                                 \n",
      " flatten (Flatten)           (None, 80640)             0         \n",
      "                                                                 \n",
      " dense (Dense)               (None, 3)                 241923    \n",
      "                                                                 \n",
      " activation (Activation)     (None, 3)                 0         \n",
      "                                                                 \n",
      "=================================================================\n",
      "Total params: 310,531\n",
      "Trainable params: 310,531\n",
      "Non-trainable params: 0\n",
      "_________________________________________________________________\n"
     ]
    },
    {
     "name": "stderr",
     "output_type": "stream",
     "text": [
      "2022-01-10 09:57:41.794604: W tensorflow/core/framework/cpu_allocator_impl.cc:82] Allocation of 3230942400 exceeds 10% of free system memory.\n"
     ]
    },
    {
     "name": "stdout",
     "output_type": "stream",
     "text": [
      "Epoch 1/100\n"
     ]
    },
    {
     "name": "stderr",
     "output_type": "stream",
     "text": [
      "2022-01-10 09:57:43.884161: I tensorflow/stream_executor/cuda/cuda_dnn.cc:366] Loaded cuDNN version 8101\n"
     ]
    },
    {
     "name": "stdout",
     "output_type": "stream",
     "text": [
      "4007/4007 [==============================] - ETA: 0s - loss: 1.5201 - sparse_categorical_accuracy: 0.8061 - accuracy: 0.8061"
     ]
    },
    {
     "name": "stderr",
     "output_type": "stream",
     "text": [
      "2022-01-10 09:59:31.473848: W tensorflow/core/framework/cpu_allocator_impl.cc:82] Allocation of 2153995200 exceeds 10% of free system memory.\n"
     ]
    },
    {
     "name": "stdout",
     "output_type": "stream",
     "text": [
      "4007/4007 [==============================] - 140s 35ms/step - loss: 1.5201 - sparse_categorical_accuracy: 0.8061 - accuracy: 0.8061 - val_loss: 1.3515 - val_sparse_categorical_accuracy: 0.8574 - val_accuracy: 0.8574\n",
      "Epoch 2/100\n",
      "4007/4007 [==============================] - 138s 34ms/step - loss: 0.6128 - sparse_categorical_accuracy: 0.9559 - accuracy: 0.9559 - val_loss: 0.0268 - val_sparse_categorical_accuracy: 0.9981 - val_accuracy: 0.9981\n",
      "Epoch 3/100\n",
      "4007/4007 [==============================] - 138s 35ms/step - loss: 0.3610 - sparse_categorical_accuracy: 0.9804 - accuracy: 0.9804 - val_loss: 0.0531 - val_sparse_categorical_accuracy: 0.9978 - val_accuracy: 0.9978\n",
      "Epoch 4/100\n",
      "4007/4007 [==============================] - 138s 34ms/step - loss: 0.7237 - sparse_categorical_accuracy: 0.9812 - accuracy: 0.9812 - val_loss: 8.3701 - val_sparse_categorical_accuracy: 0.6389 - val_accuracy: 0.6389\n",
      "Epoch 5/100\n",
      "4007/4007 [==============================] - 137s 34ms/step - loss: 4.5104 - sparse_categorical_accuracy: 0.8244 - accuracy: 0.8244 - val_loss: 0.1437 - val_sparse_categorical_accuracy: 0.9922 - val_accuracy: 0.9922\n",
      "Epoch 6/100\n",
      "4007/4007 [==============================] - 138s 34ms/step - loss: 0.6036 - sparse_categorical_accuracy: 0.9764 - accuracy: 0.9764 - val_loss: 0.0887 - val_sparse_categorical_accuracy: 0.9960 - val_accuracy: 0.9960\n",
      "Epoch 7/100\n",
      "4007/4007 [==============================] - 138s 35ms/step - loss: 0.7970 - sparse_categorical_accuracy: 0.9749 - accuracy: 0.9749 - val_loss: 0.0819 - val_sparse_categorical_accuracy: 0.9971 - val_accuracy: 0.9971\n",
      "Epoch 8/100\n",
      "4007/4007 [==============================] - 138s 34ms/step - loss: 0.4482 - sparse_categorical_accuracy: 0.9887 - accuracy: 0.9887 - val_loss: 1.6561 - val_sparse_categorical_accuracy: 0.9562 - val_accuracy: 0.9562\n",
      "Epoch 9/100\n",
      "4007/4007 [==============================] - 137s 34ms/step - loss: 1.1884 - sparse_categorical_accuracy: 0.9715 - accuracy: 0.9715 - val_loss: 0.0593 - val_sparse_categorical_accuracy: 0.9988 - val_accuracy: 0.9988\n",
      "Epoch 10/100\n",
      "4006/4007 [============================>.] - ETA: 0s - loss: 0.2590 - sparse_categorical_accuracy: 0.9926 - accuracy: 0.9926"
     ]
    }
   ],
   "source": [
    "for model_name in models_to_test:\n",
    "\n",
    "    has_activator = models_to_test[model_name][\"has_activator\"]\n",
    "    activation_layer = models_to_test[model_name][\"activator_layer\"]\n",
    "    hidden_layer = models_to_test[model_name][\"layers\"]\n",
    "    optimizer = models_to_test[model_name][\"optimizer\"]\n",
    "\n",
    "    model = create_model(has_activator, activation_layer, hidden_layer, optimizer)\n",
    "    history = model.fit(\n",
    "        x=x_train_tensor,\n",
    "        y=y_train_tensor,\n",
    "        validation_data=(x_test_tensor, y_test_tensor),\n",
    "        epochs=100,\n",
    "        shuffle=False,\n",
    "        class_weight=weights,\n",
    "        callbacks=models_to_test[model_name][\"callbacks\"]\n",
    "    )\n",
    "\n",
    "    # model.save(f\"models/stress_detection_{model_name}\")\n",
    "\n",
    "    models_to_test[model_name][\"history\"] = history\n",
    "    models_to_test[model_name][\"model\"] = model\n"
   ]
  },
  {
   "cell_type": "code",
   "execution_count": null,
   "metadata": {},
   "outputs": [],
   "source": [
    "models_to_test"
   ]
  },
  {
   "cell_type": "code",
   "execution_count": null,
   "metadata": {},
   "outputs": [],
   "source": [
    "plt.rcdefaults()\n",
    "plt.figure(figsize=(30,15))\n",
    "\n",
    "for model_name in models_to_test:\n",
    "    color_plot = models_to_test[model_name][\"color_plot\"]\n",
    "    history = models_to_test[model_name][\"history\"]\n",
    "    plt.plot(history.history['loss'], label=f'{model_name} - Sparse Categorical Crossentropy (training data)', color=color_plot)\n",
    "    plt.plot(history.history['val_loss'], label=f'{model_name} - Sparse Categorical Crossentropy (validation data)', color=color_plot, marker=\".\", markersize=20)\n",
    "\n",
    "plt.title('Sparse Categorical Crossentropy for Different Models')\n",
    "plt.ylabel('Sparse Categorical Crossentropy value')\n",
    "plt.xlabel('No. epoch')\n",
    "plt.legend(loc=\"upper left\")\n",
    "plt.grid(True)\n",
    "plt.show()"
   ]
  },
  {
   "cell_type": "code",
   "execution_count": null,
   "metadata": {},
   "outputs": [],
   "source": [
    "plt.rcdefaults()\n",
    "plt.figure(figsize=(30,15))\n",
    "\n",
    "for model_name in models_to_test:\n",
    "    color_plot = models_to_test[model_name][\"color_plot\"]\n",
    "    history = models_to_test[model_name][\"history\"]\n",
    "    plt.plot(history.history['sparse_categorical_accuracy'], label=f'{model_name} - Sparse Categorical Accuracy (training data)', color=color_plot)\n",
    "    plt.plot(history.history['val_sparse_categorical_accuracy'], label=f'{model_name} - Sparse Categorical Accuracy (validation data)', color=color_plot, marker=\".\", markersize=20)\n",
    "\n",
    "plt.title('Sparse Categorical Accuracy for Different Models')\n",
    "plt.ylabel('Accuracy value')\n",
    "plt.xlabel('No. epoch')\n",
    "plt.legend(loc=\"upper left\")\n",
    "plt.grid(True)\n",
    "plt.show()"
   ]
  },
  {
   "cell_type": "code",
   "execution_count": null,
   "metadata": {},
   "outputs": [],
   "source": [
    "plt.rcdefaults()\n",
    "plt.figure(figsize=(30,15))\n",
    "\n",
    "for model_name in models_to_test:\n",
    "    color_plot = models_to_test[model_name][\"color_plot\"]\n",
    "    history = models_to_test[model_name][\"history\"]\n",
    "    plt.plot(history.history['accuracy'], label=f'{model_name} - Accuracy (training data)', color=color_plot)\n",
    "    plt.plot(history.history['val_accuracy'], label=f'{model_name} - Accuracy (validation data)', color=color_plot, marker=\".\", markersize=20)\n",
    "\n",
    "plt.title('Accuracy for Different Models')\n",
    "plt.ylabel('Accuracy value')\n",
    "plt.xlabel('No. epoch')\n",
    "plt.legend(loc=\"upper left\")\n",
    "plt.grid(True)\n",
    "plt.show()"
   ]
  },
  {
   "cell_type": "markdown",
   "metadata": {},
   "source": [
    "# Validation Model"
   ]
  },
  {
   "cell_type": "code",
   "execution_count": null,
   "metadata": {},
   "outputs": [],
   "source": [
    "from sklearn.metrics import multilabel_confusion_matrix, confusion_matrix, roc_auc_score, roc_curve, precision_recall_curve, matthews_corrcoef, classification_report"
   ]
  },
  {
   "cell_type": "code",
   "execution_count": null,
   "metadata": {},
   "outputs": [],
   "source": [
    "labels = [\n",
    "    \"Baseline\",\n",
    "    \"Stress\",\n",
    "    \"Amusement\"\n",
    "]"
   ]
  },
  {
   "cell_type": "code",
   "execution_count": null,
   "metadata": {},
   "outputs": [],
   "source": [
    "def print_confusion_matrix(confusion_matrix, axes, class_label, class_names, fontsize=14):\n",
    "\n",
    "    df_cm = pd.DataFrame(\n",
    "        confusion_matrix, index=class_names, columns=class_names,\n",
    "    )\n",
    "\n",
    "    try:\n",
    "        heatmap = sns.heatmap(df_cm, annot=True, fmt=\"d\", cbar=False, ax=axes)\n",
    "    except ValueError:\n",
    "        raise ValueError(\"Confusion matrix values must be integers.\")\n",
    "    heatmap.yaxis.set_ticklabels(heatmap.yaxis.get_ticklabels(), rotation=0, ha='right', fontsize=fontsize)\n",
    "    heatmap.xaxis.set_ticklabels(heatmap.xaxis.get_ticklabels(), rotation=45, ha='right', fontsize=fontsize)\n",
    "    axes.set_ylabel('True label')\n",
    "    axes.set_xlabel('Predicted label')\n",
    "    axes.set_title(class_label)"
   ]
  },
  {
   "cell_type": "code",
   "execution_count": null,
   "metadata": {},
   "outputs": [],
   "source": [
    "validation_features.shape, validation_targets.shape"
   ]
  },
  {
   "cell_type": "code",
   "execution_count": null,
   "metadata": {},
   "outputs": [],
   "source": [
    "font = {'family' : 'normal',\n",
    "            'weight' : 'bold',\n",
    "            'size'   : 30}\n",
    "plt.rc(\"font\",**font)\n",
    "\n",
    "y_test = validation_targets\n",
    "\n",
    "for model_name in models_to_test:\n",
    "    y_pred_prob = models_to_test[model_name][\"model\"].predict( x = convert_to_tensor(validation_features) )\n",
    "\n",
    "    predictions = []\n",
    "    for i in range(len(y_pred_prob)):\n",
    "        predictions.append(np.argmax(y_pred_prob[i]))\n",
    "    \n",
    "    y_pred = np.array(predictions)\n",
    "    models_to_test[model_name][\"predictions\"] = y_pred\n",
    "\n",
    "    df_y = pd.DataFrame({\n",
    "        \"y_test\": y_test,\n",
    "        \"y_pred\": y_pred\n",
    "    })\n",
    "\n",
    "    df_y_stress = df_y.copy()\n",
    "\n",
    "    df_y_stress[\"y_test\"] = df_y_stress[\"y_test\"].astype(\"int64\")\n",
    "    for i in range(len(df_y_stress)):\n",
    "        if df_y_stress.iloc[i][\"y_pred\"] == 2:\n",
    "            df_y_stress.iloc[i][\"y_pred\"] = 1\n",
    "        else:\n",
    "            df_y_stress.loc[i][\"y_pred\"] = 0\n",
    "\n",
    "        if df_y_stress.iloc[i][\"y_test\"] == 2:\n",
    "            df_y_stress.iloc[i][\"y_test\"] = 1\n",
    "        else:\n",
    "            df_y_stress.loc[i][\"y_test\"] = 0\n",
    "\n",
    "    stress_roc_score = roc_auc_score(df_y_stress[\"y_test\"], df_y_stress[\"y_pred\"])\n",
    "\n",
    "    models_to_test[model_name][\"pred_image\"] = df_y.plot(figsize=(30, 8), grid=True, lw=4).get_figure()\n",
    "    plt.title(model_name)\n",
    "\n",
    "    y_test_label = np.array([pacient_state[i] for i in y_test])\n",
    "    y_pred_label = np.array([pacient_state[i] for i in y_pred])\n",
    "\n",
    "    print(f\"ROC AUC Score for Stress Label: {stress_roc_score} for model: {model_name}\")\n",
    "\n",
    "    false_positive_rate, true_positive_rate, thresholds = roc_curve(df_y_stress[\"y_test\"], df_y_stress[\"y_pred\"])\n",
    "\n",
    "    gmeans = np.sqrt(true_positive_rate * (1-false_positive_rate))\n",
    "    ix = np.argmax(gmeans)\n",
    "\n",
    "    print(f'Best Threshold={thresholds[ix]}, G-Mean={gmeans[ix]} for model: {model_name}')\n",
    "    print(f'True Positive Rate for {model_name}: {true_positive_rate}')\n",
    "\n",
    "    plt.figure(figsize=(30,15))\n",
    "    plt.title('ROC Curve for Stress')\n",
    "    plt.plot(false_positive_rate, true_positive_rate, marker='.', label='Stress Label Curve')\n",
    "    plt.scatter(false_positive_rate[ix], true_positive_rate[ix], marker='o', color='black', label='Best')\n",
    "    plt.xlabel('False Positive Rate')\n",
    "    plt.ylabel('True Positive Rate')\n",
    "    plt.legend()\n",
    "    plt.show()\n",
    "\n",
    "    precision, recall, _ = precision_recall_curve(df_y_stress[\"y_test\"], df_y_stress[\"y_pred\"])\n",
    "\n",
    "    print(f'Recalls Availables for {model_name}: {recall}')\n",
    "\n",
    "    plt.figure(figsize=(30,15))\n",
    "    plt.title('Precision/Recall Curve for Stress')\n",
    "    plt.plot(precision, recall, marker='.', label='Stress Label Curve')\n",
    "    plt.xlabel('Recall')\n",
    "    plt.ylabel('Precision')\n",
    "    plt.legend()\n",
    "    plt.show()\n",
    "\n",
    "    cm = confusion_matrix(df_y[\"y_test\"].to_list(), df_y[\"y_pred\"].to_list())\n",
    "    print(cm)\n",
    "    cm_df = pd.DataFrame(cm, index = labels, columns = labels)\n",
    "    print(cm_df)\n",
    "\n",
    "    plt.figure(figsize=(30,15))\n",
    "    sns.heatmap(cm_df, annot=True, cmap=\"Blues\", fmt=\"d\")\n",
    "    plt.title('Multi-Classification Confusion Matrix')\n",
    "    plt.ylabel('Actual Values')\n",
    "    plt.xlabel('Predicted Values')\n",
    "    plt.show()\n",
    "\n",
    "    # multilabel_cm = multilabel_confusion_matrix(y_test_label, y_pred_label, labels=labels)\n",
    "\n",
    "    # models_to_test[model_name][\"confusion_matrix\"] = multilabel_cm\n",
    "\n",
    "    # fig, ax = plt.subplots(1, 3, figsize=(36, 10))\n",
    "\n",
    "    # for axes, cf_matrix, label in zip(ax.flatten(), multilabel_cm, labels):\n",
    "    #     print_confusion_matrix(cf_matrix, axes, label, [\"N\", \"Y\"])\n",
    "    # fig.tight_layout()\n",
    "    # plt.title(model_name)\n",
    "    \n",
    "    # models_to_test[model_name][\"confusion_matrix_image\"] = fig\n",
    "\n",
    "    unique_values, counts = np.unique(df_y[\"y_test\"], axis=0, return_counts=True)\n",
    "    print(f\"{unique_values} {counts}\")\n",
    "    print(f\"{unique_values} {counts/sum(counts)}\")\n",
    "\n",
    "    unique_values, counts = np.unique(df_y[\"y_pred\"], axis=0, return_counts=True)\n",
    "    print(f\"{unique_values} {counts}\")\n",
    "    print(f\"{unique_values} {counts/sum(counts)}\")\n",
    "\n",
    "    print(f'Classification Report: \\n\\n{classification_report(df_y[\"y_test\"], df_y[\"y_pred\"], target_names=labels)}')\n",
    "    print(f'Matthews Correlation: {matthews_corrcoef(df_y[\"y_test\"], df_y[\"y_pred\"])}')"
   ]
  },
  {
   "cell_type": "code",
   "execution_count": null,
   "metadata": {},
   "outputs": [],
   "source": [
    "models_to_test"
   ]
  },
  {
   "cell_type": "markdown",
   "metadata": {},
   "source": [
    "## Testing Area"
   ]
  },
  {
   "cell_type": "code",
   "execution_count": null,
   "metadata": {},
   "outputs": [],
   "source": [
    "# sigmoid_predictions = models_to_test[\"sigmoid\"][\"predictions\"]\n",
    "softmax_predictions = models_to_test[\"softmax\"][\"predictions\"]\n",
    "# no_activator_predictions = models_to_test[\"no_activatior\"][\"predictions\"]"
   ]
  },
  {
   "cell_type": "code",
   "execution_count": null,
   "metadata": {},
   "outputs": [],
   "source": [
    "# sigmoid_predictions\n",
    "softmax_predictions\n",
    "# no_activator_predictions"
   ]
  },
  {
   "cell_type": "code",
   "execution_count": null,
   "metadata": {},
   "outputs": [],
   "source": [
    "softmax_predictions.shape"
   ]
  },
  {
   "cell_type": "code",
   "execution_count": null,
   "metadata": {},
   "outputs": [],
   "source": [
    "sum(softmax_predictions[0])"
   ]
  },
  {
   "cell_type": "code",
   "execution_count": null,
   "metadata": {},
   "outputs": [],
   "source": [
    "predictions = []\n",
    "for i in range(len(softmax_predictions)):\n",
    "    predictions.append(np.argmax(softmax_predictions[i]))"
   ]
  },
  {
   "cell_type": "code",
   "execution_count": null,
   "metadata": {},
   "outputs": [],
   "source": [
    "len(predictions)"
   ]
  },
  {
   "cell_type": "code",
   "execution_count": null,
   "metadata": {},
   "outputs": [],
   "source": [
    "predictions_array = np.array(predictions)"
   ]
  },
  {
   "cell_type": "code",
   "execution_count": null,
   "metadata": {},
   "outputs": [],
   "source": [
    "predictions_array"
   ]
  },
  {
   "cell_type": "code",
   "execution_count": null,
   "metadata": {},
   "outputs": [],
   "source": [
    "model_targets_validation"
   ]
  },
  {
   "cell_type": "code",
   "execution_count": null,
   "metadata": {},
   "outputs": [],
   "source": [
    "targets_tensor_validation = tf.convert_to_tensor(model_targets_validation, dtype=\"int64\")"
   ]
  },
  {
   "cell_type": "code",
   "execution_count": null,
   "metadata": {},
   "outputs": [],
   "source": [
    "test_loss, test_acc = model.evaluate(features_tensor_validation, targets_tensor_validation, verbose=2)\n",
    "\n",
    "print('\\nTest accuracy:', test_acc)"
   ]
  },
  {
   "cell_type": "code",
   "execution_count": null,
   "metadata": {},
   "outputs": [],
   "source": [
    "df_y = pd.DataFrame({\n",
    "    \"y_test\": model_targets_validation,\n",
    "    \"y_pred\": predictions_array\n",
    "})\n",
    "\n",
    "df_y.head(10)"
   ]
  },
  {
   "cell_type": "code",
   "execution_count": null,
   "metadata": {},
   "outputs": [],
   "source": [
    "df_y.plot(figsize=(30, 8), grid=True)"
   ]
  },
  {
   "cell_type": "code",
   "execution_count": null,
   "metadata": {},
   "outputs": [],
   "source": [
    "np.argmax(no_activator_predictions[0])"
   ]
  },
  {
   "cell_type": "code",
   "execution_count": null,
   "metadata": {},
   "outputs": [],
   "source": [
    "max(no_activator_predictions)"
   ]
  },
  {
   "cell_type": "code",
   "execution_count": null,
   "metadata": {},
   "outputs": [],
   "source": [
    "plt.figure(figsize=(30,5))\n",
    "plt.plot(range(len(no_activator_predictions)) ,no_activator_predictions)\n"
   ]
  },
  {
   "cell_type": "code",
   "execution_count": null,
   "metadata": {},
   "outputs": [],
   "source": [
    "# sigmoid_predictions[0]\n",
    "softmax_predictions[0]"
   ]
  },
  {
   "cell_type": "code",
   "execution_count": null,
   "metadata": {},
   "outputs": [],
   "source": [
    "# sigmoid_predictions[1]\n",
    "softmax_predictions[1]"
   ]
  },
  {
   "cell_type": "code",
   "execution_count": null,
   "metadata": {},
   "outputs": [],
   "source": [
    "def test_predictions(predictions_test, num_labels):\n",
    "    label_index_teste = np.argmax(predictions_test[0][:num_labels])\n",
    "    state_index_teste = np.argmax(predictions_test[0][num_labels:])\n",
    "\n",
    "    for array in predictions_test:\n",
    "        if (label_index_teste != np.argmax(array[:num_labels])) and (state_index_teste != np.argmax(array[num_labels:])):\n",
    "            print(\"Exist at least one different prediction\")\n",
    "            return\n",
    "    print(\"Does not exist different predictions\")\n"
   ]
  },
  {
   "cell_type": "code",
   "execution_count": null,
   "metadata": {},
   "outputs": [],
   "source": [
    "test_predictions(softmax_predictions, num_labels)"
   ]
  },
  {
   "cell_type": "code",
   "execution_count": null,
   "metadata": {},
   "outputs": [],
   "source": [
    "test_predictions(sigmoid_predictions, num_labels)"
   ]
  },
  {
   "cell_type": "code",
   "execution_count": null,
   "metadata": {},
   "outputs": [],
   "source": [
    "test_predictions(no_activator_predictions, num_labels)"
   ]
  },
  {
   "cell_type": "code",
   "execution_count": null,
   "metadata": {},
   "outputs": [],
   "source": [
    "def transform_prediction(prediction_np, num_states, num_labels):\n",
    "    zeros_base_array = np.zeros(num_labels + num_states)\n",
    "\n",
    "    label_index = np.argmax(prediction_np[:num_labels])\n",
    "    state_index = np.argmax(prediction_np[num_labels:])\n",
    "\n",
    "    zeros_base_array[label_index] = 1\n",
    "    zeros_base_array[num_labels + state_index] = 1\n",
    "\n",
    "    return zeros_base_array"
   ]
  },
  {
   "cell_type": "code",
   "execution_count": null,
   "metadata": {},
   "outputs": [],
   "source": [
    "transformed_array_list = []\n",
    "\n",
    "\n",
    "for prediction in sigmoid_predictions:\n",
    "    binary_array = transform_prediction(prediction, num_states, num_labels).reshape(1, num_states + num_labels)\n",
    "    transformed_array_list.append(binary_array)\n"
   ]
  },
  {
   "cell_type": "code",
   "execution_count": null,
   "metadata": {},
   "outputs": [],
   "source": [
    "fittable_econder_array = np.concatenate(transformed_array_list, axis=0)"
   ]
  },
  {
   "cell_type": "code",
   "execution_count": null,
   "metadata": {},
   "outputs": [],
   "source": [
    "unique_values = np.unique(fittable_econder_array, axis=0)\n",
    "\n",
    "unique_values"
   ]
  },
  {
   "cell_type": "code",
   "execution_count": null,
   "metadata": {},
   "outputs": [],
   "source": [
    "enc.inverse_transform(fittable_econder_array)"
   ]
  },
  {
   "cell_type": "code",
   "execution_count": null,
   "metadata": {},
   "outputs": [],
   "source": [
    "enc.get_feature_names()"
   ]
  },
  {
   "cell_type": "code",
   "execution_count": null,
   "metadata": {},
   "outputs": [],
   "source": [
    "target_validation_array_list = []\n",
    "\n",
    "for array in model_targets_validation:\n",
    "    target_validation_array_list.append(array.reshape(1,14))\n",
    "\n",
    "target_validation_array = np.concatenate(target_validation_array_list, axis=0)"
   ]
  },
  {
   "cell_type": "code",
   "execution_count": null,
   "metadata": {},
   "outputs": [],
   "source": [
    "target_validation_array"
   ]
  },
  {
   "cell_type": "code",
   "execution_count": null,
   "metadata": {},
   "outputs": [],
   "source": [
    "target_validation_array[0]"
   ]
  },
  {
   "cell_type": "code",
   "execution_count": null,
   "metadata": {},
   "outputs": [],
   "source": [
    "target_validation_array[1]"
   ]
  },
  {
   "cell_type": "code",
   "execution_count": null,
   "metadata": {},
   "outputs": [],
   "source": [
    "unique_values1 = np.unique(target_validation_array, axis=0)\n",
    "\n",
    "unique_values1"
   ]
  },
  {
   "cell_type": "code",
   "execution_count": null,
   "metadata": {},
   "outputs": [],
   "source": [
    "np.concatenate(target_validation_array_list, axis=0)"
   ]
  },
  {
   "cell_type": "code",
   "execution_count": null,
   "metadata": {},
   "outputs": [],
   "source": [
    "labeled_validation = enc.inverse_transform(model_targets_validation.tolist())"
   ]
  },
  {
   "cell_type": "code",
   "execution_count": null,
   "metadata": {},
   "outputs": [],
   "source": [
    "labeled_validationddDD"
   ]
  }
 ],
 "metadata": {
  "interpreter": {
   "hash": "c695cf195cac5fc0f6fda570195130509dbc2d1415249d5db323ab804dd63d69"
  },
  "kernelspec": {
   "display_name": "Python 3 (ipykernel)",
   "language": "python",
   "name": "python3"
  },
  "language_info": {
   "codemirror_mode": {
    "name": "ipython",
    "version": 3
   },
   "file_extension": ".py",
   "mimetype": "text/x-python",
   "name": "python",
   "nbconvert_exporter": "python",
   "pygments_lexer": "ipython3",
   "version": "3.9.7"
  }
 },
 "nbformat": 4,
 "nbformat_minor": 4
}
